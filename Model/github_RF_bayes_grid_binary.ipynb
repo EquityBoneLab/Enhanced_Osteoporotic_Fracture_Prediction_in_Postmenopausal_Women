{
 "cells": [
  {
   "cell_type": "code",
   "execution_count": 1,
   "metadata": {},
   "outputs": [],
   "source": [
    "from imblearn.over_sampling import SMOTE\n",
    "from scipy import stats\n",
    "from sklearn import metrics\n",
    "from sklearn.metrics import confusion_matrix, roc_auc_score, roc_curve,f1_score\n",
    "from sklearn.model_selection import KFold\n",
    "from sklearn.model_selection import train_test_split\n",
    "from sklearn.model_selection import cross_val_score\n",
    "import numpy\n",
    "import pandas as pd\n",
    "import pickle\n",
    "import time\n",
    "from bayes_opt import BayesianOptimization\n",
    "from sklearn.model_selection import GridSearchCV\n",
    "from sklearn.ensemble import RandomForestClassifier\n",
    "import warnings\n",
    "warnings.filterwarnings(\"ignore\")"
   ]
  },
  {
   "cell_type": "markdown",
   "metadata": {},
   "source": [
    "#### mof"
   ]
  },
  {
   "cell_type": "code",
   "execution_count": 2,
   "metadata": {},
   "outputs": [],
   "source": [
    "# dataset with FRAX CRFs and GRS\n",
    "with open('ready_whi_sp23', 'rb') as file_handler:\n",
    "    data = pickle.load(file_handler)\n",
    "    X1, Y1 = data.get('X', []).values, data.get('Y', []).values\n",
    "x_train1, x_test1, y_train1, y_test1 = train_test_split(X1, Y1, test_size=0.2,random_state=98)\n",
    "sm = SMOTE(random_state=2)\n",
    "x_train_s1, y_train_s1 = sm.fit_resample(x_train1, y_train1)"
   ]
  },
  {
   "cell_type": "code",
   "execution_count": 3,
   "metadata": {},
   "outputs": [],
   "source": [
    "# dataset with FRAX CRFs (no grs)\n",
    "with open('ready_whi_sp23', 'rb') as file_handler:\n",
    "    data = pickle.load(file_handler)\n",
    "    X2, Y2 = data.get('X_nogrs', []).values, data.get('Y', []).values\n",
    "x_train2, x_test2, y_train2, y_test2 = train_test_split(X2, Y2, test_size=0.2,random_state=98)\n",
    "sm = SMOTE(random_state=2)\n",
    "x_train_s2, y_train_s2 = sm.fit_resample(x_train2, y_train2)"
   ]
  },
  {
   "cell_type": "code",
   "execution_count": 4,
   "metadata": {},
   "outputs": [
    {
     "name": "stdout",
     "output_type": "stream",
     "text": [
      "--- Optimizing Random Forest with GRS---\n",
      "Final result: {'target': 0.8778842865533523, 'params': {'max_depth': 7.673980115788044, 'max_features': 0.9985845161097171, 'min_samples_split': 2.25878383683403, 'n_estimators': 89.91446418046922}}\n"
     ]
    }
   ],
   "source": [
    "# Bayesian optimization for Model 4 (FRAX CRFs + GRS)\n",
    "from sklearn.ensemble import RandomForestClassifier as RFC\n",
    "def rfc_cv(n_estimators, min_samples_split, max_features, max_depth, data, targets):\n",
    "    estimator = RFC(\n",
    "        n_estimators= int(n_estimators),\n",
    "        min_samples_split=min_samples_split,\n",
    "        max_features = max_features,\n",
    "        max_depth = max_depth\n",
    "    )\n",
    "    cval = cross_val_score(estimator, data, targets,\n",
    "                           scoring='roc_auc', cv=5)\n",
    "    return cval.mean()\n",
    "\n",
    "def optimize_rfc(data, targets):\n",
    "    def rfc_crossval(n_estimators, min_samples_split, max_features, max_depth):\n",
    "        return rfc_cv(\n",
    "            n_estimators=int(n_estimators),\n",
    "            min_samples_split=int(min_samples_split),\n",
    "            max_features=max(min(max_features, 0.999), 1e-3),\n",
    "            max_depth=int(max_depth),           \n",
    "            data=data,\n",
    "            targets=targets,\n",
    "        )\n",
    "\n",
    "    optimizer = BayesianOptimization(\n",
    "        f=rfc_crossval,\n",
    "        pbounds={\n",
    "            \"n_estimators\": (20, 200),\n",
    "            \"min_samples_split\":(2, 20),\n",
    "            \"max_features\": (0.1, 0.999),\n",
    "            'max_depth': (1,8)\n",
    "        },\n",
    "        random_state=45,\n",
    "        verbose=0\n",
    "    )\n",
    "    optimizer.maximize(n_iter=10)\n",
    "\n",
    "    print(\"Final result:\", optimizer.max)\n",
    "    \n",
    "if __name__ == \"__main__\":\n",
    "    print(\"--- Optimizing Random Forest with GRS---\")\n",
    "    optimize_rfc(data=x_train_s1, targets=y_train_s1)    "
   ]
  },
  {
   "cell_type": "code",
   "execution_count": 5,
   "metadata": {},
   "outputs": [
    {
     "name": "stdout",
     "output_type": "stream",
     "text": [
      "--- Optimizing Random Forest no GRS---\n",
      "Final result: {'target': 0.8714351435021763, 'params': {'max_depth': 7.976003315817541, 'max_features': 0.9986730679991317, 'min_samples_split': 9.440530888774544, 'n_estimators': 99.2896873402521}}\n"
     ]
    }
   ],
   "source": [
    "# Bayesian optimization for Model 2 (FRAX CRFs)\n",
    "def optimize_rfc(data, targets):\n",
    "    def rfc_crossval(n_estimators, min_samples_split, max_features, max_depth):\n",
    "        return rfc_cv(\n",
    "            n_estimators=int(n_estimators),\n",
    "            min_samples_split=int(min_samples_split),\n",
    "            max_features=max(min(max_features, 0.999), 1e-3),\n",
    "            max_depth=int(max_depth),           \n",
    "            data=data,\n",
    "            targets=targets,\n",
    "        )\n",
    "\n",
    "    optimizer = BayesianOptimization(\n",
    "        f=rfc_crossval,\n",
    "        pbounds={\n",
    "            \"n_estimators\": (20, 200),\n",
    "            \"min_samples_split\": (2, 20),\n",
    "            \"max_features\": (0.1, 0.999),\n",
    "            'max_depth': (1,8)\n",
    "        },\n",
    "        random_state=45,\n",
    "        verbose=0\n",
    "    )\n",
    "    optimizer.maximize(n_iter=5)\n",
    "\n",
    "    print(\"Final result:\", optimizer.max)\n",
    "\n",
    "\n",
    "if __name__ == \"__main__\":\n",
    "    print(\"--- Optimizing Random Forest no GRS---\")\n",
    "    optimize_rfc(data=x_train_s2, targets=y_train_s2)"
   ]
  },
  {
   "cell_type": "code",
   "execution_count": 6,
   "metadata": {},
   "outputs": [
    {
     "name": "stdout",
     "output_type": "stream",
     "text": [
      "{'max_depth': 8, 'max_features': 0.999, 'min_samples_split': 10, 'n_estimators': 100}\n"
     ]
    }
   ],
   "source": [
    "# grid search for Model 3 (FRAX CRFs + GRS)\n",
    "parameters = {\n",
    "        'n_estimators': [20, 200, 400],\n",
    "        'min_samples_split': [2, 10, 20],\n",
    "        'max_features': [0.1, 0.5, 0.999],\n",
    "        'max_depth': [1,5,8]\n",
    "     }\n",
    "with warnings.catch_warnings():\n",
    "    warnings.filterwarnings('ignore')\n",
    "    rf = RandomForestClassifier(random_state=45)\n",
    "    model = GridSearchCV(estimator=rf, \n",
    "                    param_grid=parameters,cv=5).fit(x_train_s1, y_train_s1)\n",
    "    print(model.best_params_)"
   ]
  },
  {
   "cell_type": "code",
   "execution_count": 7,
   "metadata": {},
   "outputs": [
    {
     "name": "stdout",
     "output_type": "stream",
     "text": [
      "{'max_depth': 8, 'max_features': 0.999, 'min_samples_split': 2, 'n_estimators': 20}\n"
     ]
    }
   ],
   "source": [
    "# grid search for Model 1 (FRAX CRFs)\n",
    "parameters = {\n",
    "        'n_estimators': [20, 200, 400],\n",
    "        'min_samples_split': [2, 10, 20],\n",
    "        'max_features': [0.1, 0.5, 0.999],\n",
    "        'max_depth': [1,5,8]\n",
    "     }\n",
    "with warnings.catch_warnings():\n",
    "    warnings.filterwarnings('ignore')\n",
    "    rf = RandomForestClassifier(random_state=45)\n",
    "    model = GridSearchCV(estimator=rf, \n",
    "                    param_grid=parameters,cv=5).fit(x_train_s2, y_train_s2)\n",
    "    print(model.best_params_)"
   ]
  },
  {
   "cell_type": "markdown",
   "metadata": {},
   "source": [
    "#### hip"
   ]
  },
  {
   "cell_type": "code",
   "execution_count": 8,
   "metadata": {},
   "outputs": [],
   "source": [
    "# dataset with FRAX CRFs and GRS\n",
    "with open('ready_whi_sp23_hip_py38', 'rb') as file_handler:\n",
    "    data = pickle.load(file_handler)\n",
    "    X1, Y1 = data.get('X', []).values, data.get('Y', []).values\n",
    "x_train1, x_test1, y_train1, y_test1 = train_test_split(X1, Y1, test_size=0.2,random_state=98)\n",
    "sm = SMOTE(random_state=2)\n",
    "x_train_s1, y_train_s1 = sm.fit_resample(x_train1, y_train1)"
   ]
  },
  {
   "cell_type": "code",
   "execution_count": 9,
   "metadata": {},
   "outputs": [],
   "source": [
    "# dataset with FRAX CRF (no grs)\n",
    "with open('ready_whi_sp23_hip_py38', 'rb') as file_handler:\n",
    "    data = pickle.load(file_handler)\n",
    "    X2, Y2 = data.get('X_nogrs', []).values, data.get('Y', []).values\n",
    "x_train2, x_test2, y_train2, y_test2 = train_test_split(X2, Y2, test_size=0.2,random_state=98)\n",
    "sm = SMOTE(random_state=2)\n",
    "x_train_s2, y_train_s2 = sm.fit_resample(x_train2, y_train2)"
   ]
  },
  {
   "cell_type": "code",
   "execution_count": 10,
   "metadata": {},
   "outputs": [
    {
     "name": "stdout",
     "output_type": "stream",
     "text": [
      "--- Optimizing Random Forest with GRS---\n",
      "Final result: {'target': 0.960325165077627, 'params': {'max_depth': 7.984688295988707, 'max_features': 0.7700001278592569, 'min_samples_split': 2.417242716040132, 'n_estimators': 89.61723237512966}}\n"
     ]
    }
   ],
   "source": [
    "from sklearn.ensemble import RandomForestClassifier as RFC\n",
    "def rfc_cv(n_estimators, min_samples_split, max_features, max_depth, data, targets):\n",
    "    estimator = RFC(\n",
    "        n_estimators= int(n_estimators),\n",
    "        min_samples_split=min_samples_split,\n",
    "        max_features = max_features,\n",
    "        max_depth = max_depth\n",
    "    )\n",
    "    cval = cross_val_score(estimator, data, targets,\n",
    "                           scoring='roc_auc', cv=5)\n",
    "    return cval.mean()\n",
    "\n",
    "def optimize_rfc(data, targets):\n",
    "    def rfc_crossval(n_estimators, min_samples_split, max_features, max_depth):\n",
    "        return rfc_cv(\n",
    "            n_estimators=int(n_estimators),\n",
    "            min_samples_split=int(min_samples_split),\n",
    "            max_features=max(min(max_features, 0.999), 1e-3),\n",
    "            max_depth=int(max_depth),           \n",
    "            data=data,\n",
    "            targets=targets,\n",
    "        )\n",
    "\n",
    "    optimizer = BayesianOptimization(\n",
    "        f=rfc_crossval,\n",
    "        pbounds={\n",
    "            \"n_estimators\": (20, 200),\n",
    "            \"min_samples_split\":(2, 20),\n",
    "            \"max_features\": (0.1, 0.999),\n",
    "            'max_depth': (1,8)\n",
    "        },\n",
    "        random_state=45,\n",
    "        verbose=0\n",
    "    )\n",
    "    optimizer.maximize(n_iter=10)\n",
    "\n",
    "    print(\"Final result:\", optimizer.max)\n",
    "    \n",
    "if __name__ == \"__main__\":\n",
    "    print(\"--- Optimizing Random Forest with GRS---\")\n",
    "    optimize_rfc(data=x_train_s1, targets=y_train_s1)"
   ]
  },
  {
   "cell_type": "code",
   "execution_count": 11,
   "metadata": {},
   "outputs": [
    {
     "name": "stdout",
     "output_type": "stream",
     "text": [
      "--- Optimizing Random Forest no GRS---\n",
      "Final result: {'target': 0.9578460853657077, 'params': {'max_depth': 7.115950711497945, 'max_features': 0.565296273916827, 'min_samples_split': 8.856182048595624, 'n_estimators': 281.6501024210875}}\n"
     ]
    }
   ],
   "source": [
    "# Bayesisn optimization for Model 2 (FRAX CRFs)\n",
    "def optimize_rfc(data, targets):\n",
    "    def rfc_crossval(n_estimators, min_samples_split, max_features, max_depth):\n",
    "        return rfc_cv(\n",
    "            n_estimators=int(n_estimators),\n",
    "            min_samples_split=int(min_samples_split),\n",
    "            max_features=max(min(max_features, 0.999), 1e-3),\n",
    "            max_depth=int(max_depth),           \n",
    "            data=data,\n",
    "            targets=targets,\n",
    "        )\n",
    "\n",
    "    optimizer = BayesianOptimization(\n",
    "        f=rfc_crossval,\n",
    "        pbounds={\n",
    "            \"n_estimators\": (20, 200),\n",
    "            \"min_samples_split\": (2, 20),\n",
    "            \"max_features\": (0.1, 0.999),\n",
    "            'max_depth': (1,8)\n",
    "        },\n",
    "        random_state=45,\n",
    "        verbose=0\n",
    "    )\n",
    "    optimizer.maximize(n_iter=5)\n",
    "\n",
    "    print(\"Final result:\", optimizer.max)\n",
    "\n",
    "\n",
    "if __name__ == \"__main__\":\n",
    "    print(\"--- Optimizing Random Forest no GRS---\")\n",
    "    optimize_rfc(data=x_train_s2, targets=y_train_s2)"
   ]
  },
  {
   "cell_type": "code",
   "execution_count": 12,
   "metadata": {},
   "outputs": [
    {
     "name": "stdout",
     "output_type": "stream",
     "text": [
      "{'max_depth': 5, 'max_features': 0.999, 'min_samples_split': 10, 'n_estimators': 100}\n"
     ]
    }
   ],
   "source": [
    "# grid search for Model 3 (FRAX CRFs + GRS)\n",
    "parameters = {\n",
    "        'n_estimators': [20, 100, 400],\n",
    "        'min_samples_split': [2, 10, 20],\n",
    "        'max_features': [0.1, 0.5, 0.999],\n",
    "        'max_depth': [1,5,8]\n",
    "     }\n",
    "with warnings.catch_warnings():\n",
    "    warnings.filterwarnings('ignore')\n",
    "    rf = RandomForestClassifier(random_state=45)\n",
    "    model = GridSearchCV(estimator=rf, \n",
    "                    param_grid=parameters,cv=5).fit(x_train_s1, y_train_s1)\n",
    "    print(model.best_params_)"
   ]
  },
  {
   "cell_type": "code",
   "execution_count": 13,
   "metadata": {},
   "outputs": [
    {
     "name": "stdout",
     "output_type": "stream",
     "text": [
      "{'max_depth': 8, 'max_features': 0.999, 'min_samples_split': 2, 'n_estimators': 20}\n"
     ]
    }
   ],
   "source": [
    "# grid search for Model 1 (FRAX CRFs)\n",
    "parameters = {\n",
    "        'n_estimators': [20, 100, 400],\n",
    "        'min_samples_split': [2, 10, 20],\n",
    "        'max_features': [0.1, 0.5, 0.999],\n",
    "        'max_depth': [1,5,8]\n",
    "     }\n",
    "with warnings.catch_warnings():\n",
    "    warnings.filterwarnings('ignore')\n",
    "    rf = RandomForestClassifier(random_state=45)\n",
    "    model = GridSearchCV(estimator=rf, \n",
    "                    param_grid=parameters,cv=5).fit(x_train_s2, y_train_s2)\n",
    "    print(model.best_params_)"
   ]
  },
  {
   "cell_type": "code",
   "execution_count": null,
   "metadata": {},
   "outputs": [],
   "source": []
  }
 ],
 "metadata": {
  "kernelspec": {
   "display_name": "Python 3 (ipykernel)",
   "language": "python",
   "name": "python3"
  },
  "language_info": {
   "codemirror_mode": {
    "name": "ipython",
    "version": 3
   },
   "file_extension": ".py",
   "mimetype": "text/x-python",
   "name": "python",
   "nbconvert_exporter": "python",
   "pygments_lexer": "ipython3",
   "version": "3.9.12"
  }
 },
 "nbformat": 4,
 "nbformat_minor": 4
}
