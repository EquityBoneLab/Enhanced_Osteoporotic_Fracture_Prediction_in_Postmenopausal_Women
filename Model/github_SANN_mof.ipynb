{
 "cells": [
  {
   "cell_type": "code",
   "execution_count": 1,
   "id": "017cc8e1",
   "metadata": {},
   "outputs": [],
   "source": [
    "import numpy as np\n",
    "import pandas as pd\n",
    "import matplotlib.pyplot as plt\n",
    "from sklearn.preprocessing import StandardScaler\n",
    "from sklearn_pandas import DataFrameMapper\n",
    "\n",
    "import torch\n",
    "import torchtuples as tt\n",
    "\n",
    "from pycox.datasets import metabric\n",
    "from pycox.models import CoxPH\n",
    "from pycox.evaluation import EvalSurv\n",
    "from sksurv.metrics import concordance_index_censored"
   ]
  },
  {
   "cell_type": "code",
   "execution_count": 2,
   "id": "d2323f5e",
   "metadata": {},
   "outputs": [],
   "source": [
    "xy_train1 = pd.read_csv('/users/PAS2433/dai417osc/WHI_sp23/data/sp23_nobmd_XYtrain_0820.csv')\n",
    "xy_test1 = pd.read_csv('/users/PAS2433/dai417osc/WHI_sp23/data/sp23_nobmd_XYtest_0820.csv')"
   ]
  },
  {
   "cell_type": "code",
   "execution_count": 3,
   "id": "ee072d9b",
   "metadata": {},
   "outputs": [],
   "source": [
    "xy_train1_grs = xy_train1[[\"AGE\",\"HEIGHTX\",\"WEIGHTX\",\"DIABNW\",\"parental_hip_frac\",\"previous_frac\",\"DRNKSDAY_3_more\",\"CORT\",\"RHEUMAT\",\"Second_Osteo\",\"SCORE\",\n",
    "\"RACE_1\",\"RACE_2\",\"RACE_3\",\"RACE_4\",\"RACE_5\",\"SMOKING_2\",\"NUMFALLS_0\",\"NUMFALLS_1\",\"NUMFALLS_2\",\"NUMFALLS_3\",\"DEATHALL\",\"mof\",\"mofDAY\",\"BKHIP\",\"BKHIPDY\"]]\n",
    "xy_test1_grs = xy_test1[[\"AGE\",\"HEIGHTX\",\"WEIGHTX\",\"DIABNW\",\"parental_hip_frac\",\"previous_frac\",\"DRNKSDAY_3_more\",\"CORT\",\"RHEUMAT\",\"Second_Osteo\",\"SCORE\",\n",
    "\"RACE_1\",\"RACE_2\",\"RACE_3\",\"RACE_4\",\"RACE_5\",\"SMOKING_2\",\"NUMFALLS_0\",\"NUMFALLS_1\",\"NUMFALLS_2\",\"NUMFALLS_3\",\"DEATHALL\",\"mof\",\"mofDAY\",\"BKHIP\",\"BKHIPDY\"]]\n",
    "xy_train1_nogrs = xy_train1[[\"AGE\",\"HEIGHTX\",\"WEIGHTX\",\"DIABNW\",\"parental_hip_frac\",\"previous_frac\",\"DRNKSDAY_3_more\",\"CORT\",\"RHEUMAT\",\"Second_Osteo\",\n",
    "\"RACE_1\",\"RACE_2\",\"RACE_3\",\"RACE_4\",\"RACE_5\",\"SMOKING_2\",\"NUMFALLS_0\",\"NUMFALLS_1\",\"NUMFALLS_2\",\"NUMFALLS_3\",\"DEATHALL\",\"mof\",\"mofDAY\",\"BKHIP\",\"BKHIPDY\"]]\n",
    "xy_test1_nogrs = xy_test1[[\"AGE\",\"HEIGHTX\",\"WEIGHTX\",\"DIABNW\",\"parental_hip_frac\",\"previous_frac\",\"DRNKSDAY_3_more\",\"CORT\",\"RHEUMAT\",\"Second_Osteo\",\n",
    "\"RACE_1\",\"RACE_2\",\"RACE_3\",\"RACE_4\",\"RACE_5\",\"SMOKING_2\",\"NUMFALLS_0\",\"NUMFALLS_1\",\"NUMFALLS_2\",\"NUMFALLS_3\",\"DEATHALL\",\"mof\",\"mofDAY\",\"BKHIP\",\"BKHIPDY\"]]"
   ]
  },
  {
   "cell_type": "code",
   "execution_count": 4,
   "id": "0a47b727",
   "metadata": {},
   "outputs": [],
   "source": [
    "cols_leave = [\"AGE\",\"HEIGHTX\",\"WEIGHTX\",\"DIABNW\",\"parental_hip_frac\",\"previous_frac\",\"DRNKSDAY_3_more\",\"CORT\",\"RHEUMAT\",\"Second_Osteo\",\"SCORE\",\n",
    "\"RACE_1\",\"RACE_2\",\"RACE_3\",\"RACE_4\",\"RACE_5\",\"SMOKING_2\",\"NUMFALLS_0\",\"NUMFALLS_1\",\"NUMFALLS_2\",\"NUMFALLS_3\",\"DEATHALL\"]\n",
    "\n",
    "cols_leave_nogrs = [\"AGE\",\"HEIGHTX\",\"WEIGHTX\",\"DIABNW\",\"parental_hip_frac\",\"previous_frac\",\"DRNKSDAY_3_more\",\"CORT\",\"RHEUMAT\",\"Second_Osteo\",\n",
    "\"RACE_1\",\"RACE_2\",\"RACE_3\",\"RACE_4\",\"RACE_5\",\"SMOKING_2\",\"NUMFALLS_0\",\"NUMFALLS_1\",\"NUMFALLS_2\",\"NUMFALLS_3\",\"DEATHALL\"]\n",
    "\n",
    "leave = [(col, None) for col in cols_leave]\n",
    "leave_nogrs = [(col, None) for col in cols_leave_nogrs]\n",
    "\n",
    "x_mapper = DataFrameMapper(leave)\n",
    "x_mapper_nogrs = DataFrameMapper(leave_nogrs)"
   ]
  },
  {
   "cell_type": "code",
   "execution_count": 5,
   "id": "418f6962",
   "metadata": {},
   "outputs": [],
   "source": [
    "x_train_grs = x_mapper.fit_transform(xy_train1_grs).astype('float32')\n",
    "x_test_grs = x_mapper.transform(xy_test1_grs).astype('float32')\n",
    "\n",
    "x_train_nogrs = x_mapper_nogrs.fit_transform(xy_train1_nogrs).astype('float32')\n",
    "x_test_nogrs = x_mapper_nogrs.fit_transform(xy_test1_nogrs).astype('float32')"
   ]
  },
  {
   "cell_type": "code",
   "execution_count": 6,
   "id": "8f164625",
   "metadata": {},
   "outputs": [],
   "source": [
    "get_target = lambda df: (df['mofDAY'].values, df['mof'].values)\n",
    "y_train_mof = get_target(xy_train1)\n",
    "durations_test_mof, events_test_mof = get_target(xy_test1)"
   ]
  },
  {
   "cell_type": "code",
   "execution_count": 7,
   "id": "cbe29e0c",
   "metadata": {},
   "outputs": [
    {
     "name": "stdout",
     "output_type": "stream",
     "text": [
      "0:\t[0s / 0s],\t\ttrain_loss: 39.1589\n",
      "1:\t[0s / 0s],\t\ttrain_loss: 46.2428\n",
      "2:\t[0s / 0s],\t\ttrain_loss: 42.1546\n",
      "3:\t[0s / 0s],\t\ttrain_loss: 53.0652\n",
      "4:\t[0s / 0s],\t\ttrain_loss: 35.5528\n",
      "5:\t[0s / 0s],\t\ttrain_loss: 30.7007\n",
      "6:\t[0s / 0s],\t\ttrain_loss: 77.4712\n",
      "7:\t[0s / 0s],\t\ttrain_loss: 57.5710\n",
      "8:\t[0s / 0s],\t\ttrain_loss: 36.9522\n",
      "9:\t[0s / 0s],\t\ttrain_loss: 32.2396\n"
     ]
    }
   ],
   "source": [
    "# Model 4 (Bayesian optimization + FRAX CRFs + GRS)\n",
    "np.random.seed(1234)\n",
    "_ = torch.manual_seed(123)\n",
    "\n",
    "in_features = x_train_grs.shape[1]\n",
    "num_nodes = [130,130]\n",
    "out_features = 1\n",
    "batch_norm = True\n",
    "dropout = 0.08405376347880598\n",
    "learning_rate=0.6341016716921827\n",
    "output_bias = False\n",
    "\n",
    "net = tt.practical.MLPVanilla(in_features, num_nodes, out_features, batch_norm,\n",
    "                              dropout, output_bias=output_bias)\n",
    "model = CoxPH(net, tt.optim.Adam)\n",
    "batch_size = 614\n",
    "lrfinder = model.lr_finder(x_train_grs, y_train_mof, batch_size, tolerance=10)\n",
    "lrfinder.get_best_lr()\n",
    "model = CoxPH(net, tt.optim.Adam)\n",
    "batch_size = 614\n",
    "model.optimizer.set_lr(learning_rate)\n",
    "epochs = 43\n",
    "callbacks = [tt.callbacks.EarlyStopping()]\n",
    "verbose = True\n",
    "log = model.fit(x_train_grs, y_train_mof, batch_size, epochs, callbacks, verbose)"
   ]
  },
  {
   "cell_type": "code",
   "execution_count": 8,
   "id": "30bf864c",
   "metadata": {},
   "outputs": [],
   "source": [
    "time_grid = np.linspace(durations_test_mof.min(), durations_test_mof.max(), 100)\n",
    "_ = model.compute_baseline_hazards()\n",
    "surv = model.predict_surv_df(x_test_grs)\n",
    "cindex = concordance_index_censored(events_test_mof.astype('bool'), durations_test_mof, 1-surv.iloc[1000])[0]\n",
    "ev = EvalSurv(surv, durations_test_mof, events_test_mof, censor_surv='km')"
   ]
  },
  {
   "cell_type": "code",
   "execution_count": 9,
   "id": "fde64b03",
   "metadata": {},
   "outputs": [
    {
     "name": "stdout",
     "output_type": "stream",
     "text": [
      "Model 4: \n",
      "C-index:  0.7453712179463708\n"
     ]
    },
    {
     "name": "stderr",
     "output_type": "stream",
     "text": [
      "/users/PAS2433/dai417osc/.local/lib/python3.9/site-packages/numba/np/ufunc/parallel.py:371: NumbaWarning: \u001b[1mThe TBB threading layer requires TBB version 2021 update 6 or later i.e., TBB_INTERFACE_VERSION >= 12060. Found TBB_INTERFACE_VERSION = 12050. The TBB threading layer is disabled.\u001b[0m\n",
      "  warnings.warn(problem)\n"
     ]
    },
    {
     "name": "stdout",
     "output_type": "stream",
     "text": [
      "Brier score:  0.007611135690063963\n",
      "Dynamic mean auc:  0.7146352973722859\n"
     ]
    }
   ],
   "source": [
    "print(\"Model 4: \")\n",
    "print(\"C-index: \", cindex)\n",
    "print(\"Brier score: \", ev.integrated_brier_score(time_grid))\n",
    "print(\"Dynamic mean auc: \", ev.concordance_td())"
   ]
  },
  {
   "cell_type": "code",
   "execution_count": 10,
   "id": "c7af78ff",
   "metadata": {},
   "outputs": [
    {
     "name": "stdout",
     "output_type": "stream",
     "text": [
      "0:\t[0s / 0s],\t\ttrain_loss: 225.8998\n",
      "1:\t[0s / 0s],\t\ttrain_loss: 222.8280\n",
      "2:\t[0s / 0s],\t\ttrain_loss: 221.9486\n",
      "3:\t[0s / 0s],\t\ttrain_loss: 161.7642\n",
      "4:\t[0s / 0s],\t\ttrain_loss: 248.8383\n",
      "5:\t[0s / 0s],\t\ttrain_loss: 318.6328\n",
      "6:\t[0s / 0s],\t\ttrain_loss: 304.9946\n",
      "7:\t[0s / 0s],\t\ttrain_loss: 233.7371\n",
      "8:\t[0s / 0s],\t\ttrain_loss: 304.2512\n",
      "9:\t[0s / 0s],\t\ttrain_loss: 471.3184\n"
     ]
    }
   ],
   "source": [
    "# Model 3 (Grid search + FRAX CRFs + GRS)\n",
    "np.random.seed(1234)\n",
    "_ = torch.manual_seed(123)\n",
    "\n",
    "in_features = x_train_grs.shape[1]\n",
    "num_nodes = [200, 200]\n",
    "out_features = 1\n",
    "batch_norm = True\n",
    "dropout = 0.1 \n",
    "output_bias = False\n",
    "\n",
    "net = tt.practical.MLPVanilla(in_features, num_nodes, out_features, batch_norm,\n",
    "                              dropout, output_bias=output_bias)\n",
    "model = CoxPH(net, tt.optim.Adam)\n",
    "batch_size = 600 \n",
    "lrfinder = model.lr_finder(x_train_grs, y_train_mof, batch_size, tolerance=10)\n",
    "lrfinder.get_best_lr()\n",
    "model = CoxPH(net, tt.optim.Adam)\n",
    "batch_size = 600 \n",
    "model.optimizer.set_lr(1)\n",
    "epochs = 60 \n",
    "callbacks = [tt.callbacks.EarlyStopping()]\n",
    "verbose = True\n",
    "log = model.fit(x_train_grs, y_train_mof, batch_size, epochs, callbacks, verbose)"
   ]
  },
  {
   "cell_type": "code",
   "execution_count": 11,
   "id": "74d7f3ea",
   "metadata": {},
   "outputs": [],
   "source": [
    "time_grid = np.linspace(durations_test_mof.min(), durations_test_mof.max(), 100)\n",
    "_ = model.compute_baseline_hazards()\n",
    "surv = model.predict_surv_df(x_test_grs)\n",
    "cindex = concordance_index_censored(events_test_mof.astype('bool'), durations_test_mof, 1-surv.iloc[1000])[0]\n",
    "ev = EvalSurv(surv, durations_test_mof, events_test_mof, censor_surv='km')"
   ]
  },
  {
   "cell_type": "code",
   "execution_count": 12,
   "id": "32301b21",
   "metadata": {},
   "outputs": [
    {
     "name": "stdout",
     "output_type": "stream",
     "text": [
      "Model 3: \n",
      "C-index:  0.6811785239158825\n",
      "Brier score:  0.0076320850415950905\n",
      "Dynamic mean auc:  0.6581551079523033\n"
     ]
    }
   ],
   "source": [
    "print(\"Model 3: \")\n",
    "print(\"C-index: \", cindex)\n",
    "print(\"Brier score: \", ev.integrated_brier_score(time_grid))\n",
    "print(\"Dynamic mean auc: \", ev.concordance_td())"
   ]
  },
  {
   "cell_type": "code",
   "execution_count": 13,
   "id": "5b8cc1b5",
   "metadata": {},
   "outputs": [
    {
     "name": "stdout",
     "output_type": "stream",
     "text": [
      "0:\t[0s / 0s],\t\ttrain_loss: 5.7247\n",
      "1:\t[0s / 0s],\t\ttrain_loss: 5.5862\n",
      "2:\t[0s / 0s],\t\ttrain_loss: 5.5992\n",
      "3:\t[0s / 0s],\t\ttrain_loss: 5.5672\n",
      "4:\t[0s / 0s],\t\ttrain_loss: 5.5335\n",
      "5:\t[0s / 0s],\t\ttrain_loss: 5.5234\n",
      "6:\t[0s / 0s],\t\ttrain_loss: 5.5674\n",
      "7:\t[0s / 0s],\t\ttrain_loss: 5.5121\n",
      "8:\t[0s / 0s],\t\ttrain_loss: 5.4662\n",
      "9:\t[0s / 0s],\t\ttrain_loss: 5.5043\n"
     ]
    }
   ],
   "source": [
    "# Model 2 (Bayesian optimization + FRAX CRFs + GRS)\n",
    "np.random.seed(1234)\n",
    "_ = torch.manual_seed(123)\n",
    "\n",
    "in_features = x_train_nogrs.shape[1]\n",
    "num_nodes = [250, 250]\n",
    "out_features = 1\n",
    "batch_norm = True\n",
    "dropout = 0.010074801781291724 \n",
    "output_bias = False\n",
    "\n",
    "net = tt.practical.MLPVanilla(in_features, num_nodes, out_features, batch_norm,\n",
    "                              dropout, output_bias=output_bias)\n",
    "\n",
    "model = CoxPH(net, tt.optim.Adam)\n",
    "batch_size = 726 \n",
    "lrfinder = model.lr_finder(x_train_nogrs, y_train_mof, batch_size, tolerance=10)\n",
    "model = CoxPH(net, tt.optim.Adam)\n",
    "batch_size = 726 \n",
    "model.optimizer.set_lr(0.010630405728982002) \n",
    "epochs = 60 \n",
    "callbacks = [tt.callbacks.EarlyStopping()]\n",
    "verbose = True\n",
    "log = model.fit(x_train_nogrs, y_train_mof, batch_size, epochs, callbacks, verbose)"
   ]
  },
  {
   "cell_type": "code",
   "execution_count": 14,
   "id": "a46805c1",
   "metadata": {},
   "outputs": [],
   "source": [
    "time_grid = np.linspace(durations_test_mof.min(), durations_test_mof.max(), 100)\n",
    "_ = model.compute_baseline_hazards()\n",
    "surv = model.predict_surv_df(x_test_nogrs)\n",
    "cindex = concordance_index_censored(events_test_mof.astype('bool'), durations_test_mof, 1-surv.iloc[1000])[0]\n",
    "ev = EvalSurv(surv, durations_test_mof, events_test_mof, censor_surv='km')"
   ]
  },
  {
   "cell_type": "code",
   "execution_count": 15,
   "id": "268181a1",
   "metadata": {},
   "outputs": [
    {
     "name": "stdout",
     "output_type": "stream",
     "text": [
      "Model 2: \n",
      "C-index:  0.6210521605051281\n",
      "Brier score:  0.007650882692544136\n",
      "Dynamic mean auc:  0.5803305899439796\n"
     ]
    }
   ],
   "source": [
    "print(\"Model 2: \")\n",
    "print(\"C-index: \", cindex)\n",
    "print(\"Brier score: \", ev.integrated_brier_score(time_grid))\n",
    "print(\"Dynamic mean auc: \", ev.concordance_td())"
   ]
  },
  {
   "cell_type": "code",
   "execution_count": 16,
   "id": "7b271488",
   "metadata": {},
   "outputs": [
    {
     "name": "stdout",
     "output_type": "stream",
     "text": [
      "0:\t[0s / 0s],\t\ttrain_loss: 8.6250\n",
      "1:\t[0s / 0s],\t\ttrain_loss: 5.4904\n",
      "2:\t[0s / 0s],\t\ttrain_loss: 5.3759\n",
      "3:\t[0s / 0s],\t\ttrain_loss: 5.4487\n",
      "4:\t[0s / 0s],\t\ttrain_loss: 5.3931\n",
      "5:\t[0s / 0s],\t\ttrain_loss: 5.3589\n",
      "6:\t[0s / 0s],\t\ttrain_loss: 5.3525\n",
      "7:\t[0s / 0s],\t\ttrain_loss: 5.3822\n",
      "8:\t[0s / 0s],\t\ttrain_loss: 5.3781\n",
      "9:\t[0s / 0s],\t\ttrain_loss: 5.3331\n"
     ]
    }
   ],
   "source": [
    "# Model 1 (grid search + FRAX CRFs)\n",
    "np.random.seed(1234)\n",
    "_ = torch.manual_seed(123)\n",
    "\n",
    "in_features = x_train_nogrs.shape[1]\n",
    "num_nodes = [300, 300]\n",
    "out_features = 1\n",
    "batch_norm = True\n",
    "dropout = 0.01 \n",
    "output_bias = False\n",
    "\n",
    "net = tt.practical.MLPVanilla(in_features, num_nodes, out_features, batch_norm,\n",
    "                              dropout, output_bias=output_bias)\n",
    "\n",
    "model = CoxPH(net, tt.optim.Adam)\n",
    "batch_size = 600 \n",
    "lrfinder = model.lr_finder(x_train_nogrs, y_train_mof, batch_size, tolerance=10)\n",
    "model = CoxPH(net, tt.optim.Adam)\n",
    "batch_size = 600 \n",
    "model.optimizer.set_lr(0.1) \n",
    "epochs = 60 \n",
    "callbacks = [tt.callbacks.EarlyStopping()]\n",
    "verbose = True\n",
    "log = model.fit(x_train_nogrs, y_train_mof, batch_size, epochs, callbacks, verbose)"
   ]
  },
  {
   "cell_type": "code",
   "execution_count": 17,
   "id": "d14a1387",
   "metadata": {},
   "outputs": [],
   "source": [
    "time_grid = np.linspace(durations_test_mof.min(), durations_test_mof.max(), 100)\n",
    "_ = model.compute_baseline_hazards()\n",
    "surv = model.predict_surv_df(x_test_nogrs)\n",
    "cindex = concordance_index_censored(events_test_mof.astype('bool'), durations_test_mof, 1-surv.iloc[1000])[0]\n",
    "ev = EvalSurv(surv, durations_test_mof, events_test_mof, censor_surv='km')"
   ]
  },
  {
   "cell_type": "code",
   "execution_count": 18,
   "id": "1fc06649",
   "metadata": {},
   "outputs": [
    {
     "name": "stdout",
     "output_type": "stream",
     "text": [
      "Model 1: \n",
      "C-index:  0.557105602545169\n",
      "Brier score:  0.007675809428274024\n",
      "Dynamic mean auc:  0.5745047863532992\n"
     ]
    }
   ],
   "source": [
    "print(\"Model 1: \")\n",
    "print(\"C-index: \", cindex)\n",
    "print(\"Brier score: \", ev.integrated_brier_score(time_grid))\n",
    "print(\"Dynamic mean auc: \", ev.concordance_td())"
   ]
  },
  {
   "cell_type": "code",
   "execution_count": null,
   "id": "6b0c694f",
   "metadata": {},
   "outputs": [],
   "source": []
  }
 ],
 "metadata": {
  "kernelspec": {
   "display_name": "Python 3.9 (Conda 2022.05) [python/3.9-2022.05]",
   "language": "python",
   "name": "python39_202205"
  },
  "language_info": {
   "codemirror_mode": {
    "name": "ipython",
    "version": 3
   },
   "file_extension": ".py",
   "mimetype": "text/x-python",
   "name": "python",
   "nbconvert_exporter": "python",
   "pygments_lexer": "ipython3",
   "version": "3.9.12"
  }
 },
 "nbformat": 4,
 "nbformat_minor": 5
}
