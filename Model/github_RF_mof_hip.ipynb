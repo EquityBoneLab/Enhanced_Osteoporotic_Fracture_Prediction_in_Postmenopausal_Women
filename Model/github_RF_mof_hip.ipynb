{
 "cells": [
  {
   "cell_type": "code",
   "execution_count": 1,
   "metadata": {},
   "outputs": [],
   "source": [
    "from imblearn.over_sampling import SMOTE\n",
    "from scipy import stats\n",
    "from sklearn import metrics\n",
    "from sklearn.ensemble import RandomForestClassifier\n",
    "from sklearn.metrics import confusion_matrix, roc_auc_score, roc_curve,f1_score,average_precision_score,precision_recall_curve\n",
    "from sklearn.model_selection import KFold\n",
    "from sklearn.model_selection import train_test_split\n",
    "from sklearn.model_selection import cross_val_score\n",
    "import numpy\n",
    "import numpy as np\n",
    "import pandas as pd\n",
    "import pickle\n",
    "from sklearn.linear_model import LogisticRegression\n",
    "from sklearn import tree\n",
    "from sklearn.naive_bayes import GaussianNB"
   ]
  },
  {
   "cell_type": "markdown",
   "metadata": {},
   "source": [
    "#### mof"
   ]
  },
  {
   "cell_type": "code",
   "execution_count": 2,
   "metadata": {},
   "outputs": [],
   "source": [
    "# dataset with FRAX CRFs and GRS\n",
    "with open('ready_whi_sp23', 'rb') as file_handler:\n",
    "    data = pickle.load(file_handler)\n",
    "    X1, Y1 = data.get('X', []).values, data.get('Y', []).values\n",
    "x_train1, x_test1, y_train1, y_test1 = train_test_split(X1, Y1, test_size=0.2,random_state=98)\n",
    "sm = SMOTE(random_state=2)\n",
    "x_train_s1, y_train_s1 = sm.fit_resample(x_train1, y_train1)"
   ]
  },
  {
   "cell_type": "code",
   "execution_count": 3,
   "metadata": {},
   "outputs": [],
   "source": [
    "# dataset with FRAX CRFs (no grs)\n",
    "with open('ready_whi_sp23', 'rb') as file_handler:\n",
    "    data = pickle.load(file_handler)\n",
    "    X2, Y2 = data.get('X_nogrs', []).values, data.get('Y', []).values\n",
    "x_train2, x_test2, y_train2, y_test2 = train_test_split(X2, Y2, test_size=0.2,random_state=98)\n",
    "sm = SMOTE(random_state=2)\n",
    "x_train_s2, y_train_s2 = sm.fit_resample(x_train2, y_train2)"
   ]
  },
  {
   "cell_type": "code",
   "execution_count": 4,
   "metadata": {},
   "outputs": [
    {
     "name": "stdout",
     "output_type": "stream",
     "text": [
      "Model 4:\n",
      "RF Accuracy : 0.7846750727449079\n",
      "RF AUC : 0.7577652840665227\n",
      "RF PRAUC : 0.5774018691588785\n",
      "RF F1 : 0.8351205412859825\n"
     ]
    }
   ],
   "source": [
    "# Model 4 (FRAX CRFs + GRS)\n",
    "rf = RandomForestClassifier(n_estimators=90,\n",
    "                            max_depth=8, min_samples_split=2, \n",
    "                            max_features=0.9985845161097171,\n",
    "                            random_state=45)\n",
    "model_rf = rf.fit(x_train_s1, y_train_s1)\n",
    "y_pred1 = model_rf.predict(x_test1)\n",
    "yscore_raw = model_rf.predict_proba(x_test1)\n",
    "yscore = [s[1] for s in yscore_raw]\n",
    "fpr, tpr, thresh = roc_curve(y_test1, yscore)\n",
    "auc = roc_auc_score(y_test1, yscore)\n",
    "prauc = average_precision_score(y_test1, yscore)\n",
    "f1 = f1_score(y_test1,y_pred1,average=\"weighted\")\n",
    "\n",
    "print(\"Model 4: \")\n",
    "print(\"RF Accuracy : \", metrics.accuracy_score(y_test1, y_pred1))\n",
    "print(\"RF AUC : \", auc)\n",
    "print(\"RF PRAUC : \", prauc)\n",
    "print(\"RF F1 : \", f1)"
   ]
  },
  {
   "cell_type": "code",
   "execution_count": 5,
   "metadata": {},
   "outputs": [
    {
     "name": "stdout",
     "output_type": "stream",
     "text": [
      "Model 3:\n",
      "RF Accuracy : 0.7819592628516003\n",
      "RF AUC : 0.7568214890115059\n",
      "RF PRAUC : 0.5699818496110631\n",
      "RF F1 : 0.8333049599517579\n"
     ]
    }
   ],
   "source": [
    "# Model 3 (FRAX CRFs + GRS)\n",
    "rf = RandomForestClassifier(n_estimators=100,\n",
    "                            max_depth=8, min_samples_split=10, \n",
    "                            max_features=0.999,\n",
    "                            random_state=45)\n",
    "model_rf = rf.fit(x_train_s1, y_train_s1)\n",
    "y_pred1 = model_rf.predict(x_test1)\n",
    "yscore_raw = model_rf.predict_proba(x_test1)\n",
    "yscore = [s[1] for s in yscore_raw]\n",
    "fpr, tpr, thresh = roc_curve(y_test1, yscore)\n",
    "auc = roc_auc_score(y_test1, yscore)\n",
    "prauc = average_precision_score(y_test1, yscore)\n",
    "f1 = f1_score(y_test1,y_pred1,average=\"weighted\")\n",
    "\n",
    "print(\"Model 3: \")\n",
    "print(\"RF Accuracy : \", metrics.accuracy_score(y_test1, y_pred1))\n",
    "print(\"RF AUC : \", auc)\n",
    "print(\"RF PRAUC : \", prauc)\n",
    "print(\"RF F1 : \", f1)"
   ]
  },
  {
   "cell_type": "code",
   "execution_count": 6,
   "metadata": {},
   "outputs": [
    {
     "name": "stdout",
     "output_type": "stream",
     "text": [
      "Model 2:\n",
      "RF Accuracy : 0.7627546071774975\n",
      "RF AUC : 0.6946338049408588\n",
      "RF PRAUC : 0.5138224299065423\n",
      "RF F1 : 0.8210035447920947\n"
     ]
    }
   ],
   "source": [
    "# Model 2 (FRAX CRFs)\n",
    "rf_nogrs = RandomForestClassifier(n_estimators=100,\n",
    "                                   max_depth=8, min_samples_split=9, max_features=0.9986730679991317,                                   \n",
    "                                   random_state=45)\n",
    "model_rf_nogrs = rf_nogrs.fit(x_train_s2, y_train_s2)\n",
    "y_pred2 = model_rf_nogrs.predict(x_test2)\n",
    "yscore_raw = model_rf_nogrs.predict_proba(x_test2)\n",
    "yscore = [s[1] for s in yscore_raw]\n",
    "fpr, tpr, thresh = roc_curve(y_test2, yscore)\n",
    "auc = roc_auc_score(y_test2, yscore)\n",
    "prauc = average_precision_score(y_test2, yscore)\n",
    "f1 = f1_score(y_test2,y_pred2,average=\"weighted\")\n",
    "\n",
    "print(\"Model 2: \")\n",
    "print(\"RF Accuracy : \", metrics.accuracy_score(y_test2, y_pred2))\n",
    "print(\"RF AUC : \", auc)\n",
    "print(\"RF PRAUC : \", prauc)\n",
    "print(\"RF F1 : \", f1)"
   ]
  },
  {
   "cell_type": "code",
   "execution_count": 7,
   "metadata": {},
   "outputs": [
    {
     "name": "stdout",
     "output_type": "stream",
     "text": [
      "Model 1:\n",
      "RF Accuracy : 0.7624606207565471\n",
      "RF AUC : 0.6821967838145431\n",
      "RF PRAUC : 0.5200904130943103\n",
      "RF F1 : 0.8201444801937245\n"
     ]
    }
   ],
   "source": [
    "# Model 1 (FRAX CRFs)\n",
    "rf_nogrs = RandomForestClassifier(n_estimators=20,\n",
    "                                   max_depth=8, min_samples_split=2, max_features=0.999, \n",
    "                                   random_state=45)\n",
    "model_rf_nogrs = rf_nogrs.fit(x_train_s2, y_train_s2)\n",
    "y_pred2 = model_rf_nogrs.predict(x_test2)\n",
    "yscore_raw = model_rf_nogrs.predict_proba(x_test2)\n",
    "yscore = [s[1] for s in yscore_raw]\n",
    "fpr, tpr, thresh = roc_curve(y_test2, yscore)\n",
    "auc = roc_auc_score(y_test2, yscore)\n",
    "prauc = average_precision_score(y_test2, yscore)\n",
    "f1 = f1_score(y_test2,y_pred2,average=\"weighted\")\n",
    "\n",
    "print(\"Model 1: \")\n",
    "print(\"RF Accuracy : \", metrics.accuracy_score(y_test2, y_pred2))\n",
    "print(\"RF AUC : \", auc)\n",
    "print(\"RF PRAUC : \", prauc)\n",
    "print(\"RF F1 : \", f1)"
   ]
  },
  {
   "cell_type": "markdown",
   "metadata": {},
   "source": [
    "#### hip"
   ]
  },
  {
   "cell_type": "code",
   "execution_count": 8,
   "metadata": {},
   "outputs": [],
   "source": [
    "# dataset with FRAX CRFs and GRS\n",
    "with open('ready_whi_sp23_hip_py38', 'rb') as file_handler:\n",
    "    data = pickle.load(file_handler)\n",
    "    X1, Y1 = data.get('X', []).values, data.get('Y', []).values\n",
    "x_train1, x_test1, y_train1, y_test1 = train_test_split(X1, Y1, test_size=0.2,random_state=98)\n",
    "sm = SMOTE(random_state=2)\n",
    "x_train_s1, y_train_s1 = sm.fit_resample(x_train1, y_train1)"
   ]
  },
  {
   "cell_type": "code",
   "execution_count": 9,
   "metadata": {},
   "outputs": [],
   "source": [
    "# dataset with FRAX CRF (no grs)\n",
    "with open('ready_whi_sp23_hip_py38', 'rb') as file_handler:\n",
    "    data = pickle.load(file_handler)\n",
    "    X2, Y2 = data.get('X_nogrs', []).values, data.get('Y', []).values\n",
    "x_train2, x_test2, y_train2, y_test2 = train_test_split(X2, Y2, test_size=0.2,random_state=98)\n",
    "sm = SMOTE(random_state=2)\n",
    "x_train_s2, y_train_s2 = sm.fit_resample(x_train2, y_train2)"
   ]
  },
  {
   "cell_type": "code",
   "execution_count": 10,
   "metadata": {},
   "outputs": [
    {
     "name": "stdout",
     "output_type": "stream",
     "text": [
      "Model 4:\n",
      "RF Accuracy : 0.8530612244897959\n",
      "RF AUC : 0.8002603410248804\n",
      "RF PRAUC : 0.6701967213114755\n",
      "RF F1 : 0.9101745644401951\n"
     ]
    }
   ],
   "source": [
    "# Model 4 (FRAX CRFs + GRS)\n",
    "rf = RandomForestClassifier(n_estimators=90,\n",
    "                            max_depth=8, \n",
    "                            min_samples_split=2, \n",
    "                            max_features=0.7700001278592569,\n",
    "                            random_state=45)\n",
    "model_rf = rf.fit(x_train_s1, y_train_s1)\n",
    "y_pred1 = model_rf.predict(x_test1)\n",
    "yscore_raw = model_rf.predict_proba(x_test1)\n",
    "yscore = [s[1] for s in yscore_raw]\n",
    "fpr, tpr, thresh = roc_curve(y_test1, yscore)\n",
    "auc = roc_auc_score(y_test1, yscore)\n",
    "prauc = average_precision_score(y_test1, yscore)\n",
    "f1 = f1_score(y_test1,y_pred1,average=\"weighted\")\n",
    "\n",
    "print(\"Model 4: \")\n",
    "print(\"RF Accuracy : \", metrics.accuracy_score(y_test1, y_pred1))\n",
    "print(\"RF AUC : \", auc)\n",
    "print(\"RF PRAUC : \", prauc)\n",
    "print(\"RF F1 : \", f1)"
   ]
  },
  {
   "cell_type": "code",
   "execution_count": 11,
   "metadata": {},
   "outputs": [
    {
     "name": "stdout",
     "output_type": "stream",
     "text": [
      "Model 3:\n",
      "RF Accuracy : 0.8161321671525753\n",
      "RF AUC : 0.7970263507500226\n",
      "RF PRAUC : 0.5767704918032787\n",
      "RF F1 : 0.8881644799890457\n"
     ]
    }
   ],
   "source": [
    "# Model 3 (FRAX CRFs + GRS)\n",
    "rf = RandomForestClassifier(n_estimators=100,\n",
    "                            max_depth=5, min_samples_split=10, \n",
    "                            max_features=0.999,\n",
    "                            random_state=45)\n",
    "model_rf = rf.fit(x_train_s1, y_train_s1)\n",
    "y_pred1 = model_rf.predict(x_test1)\n",
    "yscore_raw = model_rf.predict_proba(x_test1)\n",
    "yscore = [s[1] for s in yscore_raw]\n",
    "fpr, tpr, thresh = roc_curve(y_test1, yscore)\n",
    "auc = roc_auc_score(y_test1, yscore)\n",
    "prauc = average_precision_score(y_test1, yscore)\n",
    "f1 = f1_score(y_test1,y_pred1,average=\"weighted\")\n",
    "\n",
    "print(\"Model 3: \")\n",
    "print(\"RF Accuracy : \", metrics.accuracy_score(y_test1, y_pred1))\n",
    "print(\"RF AUC : \", auc)\n",
    "print(\"RF PRAUC : \", prauc)\n",
    "print(\"RF F1 : \", f1)"
   ]
  },
  {
   "cell_type": "code",
   "execution_count": 12,
   "metadata": {},
   "outputs": [
    {
     "name": "stdout",
     "output_type": "stream",
     "text": [
      "Model 2:\n",
      "RF Accuracy : 0.8167152575315842\n",
      "RF AUC : 0.6880019785634133\n",
      "RF PRAUC : 0.6333770491803278\n",
      "RF F1 : 0.8880188571478942\n"
     ]
    }
   ],
   "source": [
    "# Model 2 (FRAX CRFs)\n",
    "rf_nogrs = RandomForestClassifier(n_estimators=282,\n",
    "                                   max_depth=7, min_samples_split=9, max_features=0.565296273916827, \n",
    "                                   random_state=45)\n",
    "model_rf_nogrs = rf_nogrs.fit(x_train_s2, y_train_s2)\n",
    "y_pred2 = model_rf_nogrs.predict(x_test2)\n",
    "yscore_raw = model_rf_nogrs.predict_proba(x_test2)\n",
    "yscore = [s[1] for s in yscore_raw]\n",
    "fpr, tpr, thresh = roc_curve(y_test2, yscore)\n",
    "auc = roc_auc_score(y_test2, yscore)\n",
    "prauc = average_precision_score(y_test2, yscore)\n",
    "f1 = f1_score(y_test2,y_pred2,average=\"weighted\")\n",
    "\n",
    "print(\"Model 2: \")\n",
    "print(\"RF Accuracy : \", metrics.accuracy_score(y_test2, y_pred2))\n",
    "print(\"RF AUC : \", auc)\n",
    "print(\"RF PRAUC : \", prauc)\n",
    "print(\"RF F1 : \", f1)"
   ]
  },
  {
   "cell_type": "code",
   "execution_count": 13,
   "metadata": {},
   "outputs": [
    {
     "name": "stdout",
     "output_type": "stream",
     "text": [
      "Model 1:\n",
      "RF Accuracy : 0.8069203109815354\n",
      "RF AUC : 0.6851565825282789\n",
      "RF PRAUC : 0.5581967213114754\n",
      "RF F1 : 0.8130117072337278\n"
     ]
    }
   ],
   "source": [
    "# Model 1 (FRAX CRFs)\n",
    "rf_nogrs = RandomForestClassifier(n_estimators=20,\n",
    "                                   max_depth=8, min_samples_split=2, max_features=0.999, \n",
    "                                   random_state=45)\n",
    "model_rf_nogrs = rf_nogrs.fit(x_train_s2, y_train_s2)\n",
    "y_pred2 = model_rf_nogrs.predict(x_test2)\n",
    "yscore_raw = model_rf_nogrs.predict_proba(x_test2)\n",
    "yscore = [s[1] for s in yscore_raw]\n",
    "fpr, tpr, thresh = roc_curve(y_test2, yscore)\n",
    "auc = roc_auc_score(y_test2, yscore)\n",
    "prauc = average_precision_score(y_test2, yscore)\n",
    "f1 = f1_score(y_test2,y_pred2,average=\"weighted\")\n",
    "\n",
    "print(\"Model 1: \")\n",
    "print(\"RF Accuracy : \", metrics.accuracy_score(y_test2, y_pred2))\n",
    "print(\"RF AUC : \", auc)\n",
    "print(\"RF PRAUC : \", prauc)\n",
    "print(\"RF F1 : \", f1)"
   ]
  },
  {
   "cell_type": "code",
   "execution_count": null,
   "metadata": {},
   "outputs": [],
   "source": []
  }
 ],
 "metadata": {
  "kernelspec": {
   "display_name": "Python 3 (ipykernel)",
   "language": "python",
   "name": "python3"
  },
  "language_info": {
   "codemirror_mode": {
    "name": "ipython",
    "version": 3
   },
   "file_extension": ".py",
   "mimetype": "text/x-python",
   "name": "python",
   "nbconvert_exporter": "python",
   "pygments_lexer": "ipython3",
   "version": "3.9.12"
  }
 },
 "nbformat": 4,
 "nbformat_minor": 4
}
