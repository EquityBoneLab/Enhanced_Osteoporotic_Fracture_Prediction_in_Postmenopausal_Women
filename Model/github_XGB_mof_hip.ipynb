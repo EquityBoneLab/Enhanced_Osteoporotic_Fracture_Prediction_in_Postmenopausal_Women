{
 "cells": [
  {
   "cell_type": "code",
   "execution_count": 1,
   "metadata": {},
   "outputs": [],
   "source": [
    "from imblearn.over_sampling import SMOTE\n",
    "from scipy import stats\n",
    "from sklearn import metrics\n",
    "from sklearn.metrics import confusion_matrix, roc_auc_score, roc_curve,f1_score,average_precision_score,precision_recall_curve\n",
    "from sklearn.model_selection import KFold\n",
    "from sklearn.model_selection import train_test_split\n",
    "from sklearn.model_selection import cross_val_score\n",
    "import numpy\n",
    "import numpy as np\n",
    "import pandas as pd\n",
    "import pickle\n",
    "import xgboost as xgb"
   ]
  },
  {
   "cell_type": "markdown",
   "metadata": {},
   "source": [
    "#### mof"
   ]
  },
  {
   "cell_type": "code",
   "execution_count": 2,
   "metadata": {},
   "outputs": [],
   "source": [
    "# dataset with FRAX CRFs and GRS\n",
    "with open('ready_whi_sp23', 'rb') as file_handler:\n",
    "    data = pickle.load(file_handler)\n",
    "    X1, Y1 = data.get('X', []).values, data.get('Y', []).values\n",
    "x_train1, x_test1, y_train1, y_test1 = train_test_split(X1, Y1, test_size=0.2,random_state=98)\n",
    "sm = SMOTE(random_state=2)\n",
    "x_train_s1, y_train_s1 = sm.fit_resample(x_train1, y_train1)"
   ]
  },
  {
   "cell_type": "code",
   "execution_count": 3,
   "metadata": {},
   "outputs": [],
   "source": [
    "# dataset with FRAX CRFs (no grs)\n",
    "with open('ready_whi_sp23', 'rb') as file_handler:\n",
    "    data = pickle.load(file_handler)\n",
    "    X2, Y2 = data.get('X_nogrs', []).values, data.get('Y', []).values\n",
    "x_train2, x_test2, y_train2, y_test2 = train_test_split(X2, Y2, test_size=0.2,random_state=98)\n",
    "sm = SMOTE(random_state=2)\n",
    "x_train_s2, y_train_s2 = sm.fit_resample(x_train2, y_train2)"
   ]
  },
  {
   "cell_type": "code",
   "execution_count": 4,
   "metadata": {},
   "outputs": [
    {
     "name": "stdout",
     "output_type": "stream",
     "text": [
      "Model 4:\n",
      "XGB Accuracy : 0.9123181377303589\n",
      "XGB AUC : 0.7387495376080916\n",
      "XGB PRAUC : 0.5703488372093023\n",
      "XGB F1 : 0.9041235620908141\n"
     ]
    }
   ],
   "source": [
    "# Model 4 (FRAX CRFs + GRS)\n",
    "xgb_rscv = xgb.XGBClassifier( \n",
    "                             gamma=4.667459888168229, \n",
    "                             max_depth=6,\n",
    "                             reg_alpha=5.948836051062213, \n",
    "                             reg_lambda=10.831670870285606, \n",
    "                             n_estimators=37,\n",
    "                             learning_rate=0.6897422327789582,\n",
    "                             subsample=0.44119502971375474)\n",
    "\n",
    "\n",
    "\n",
    "#fit the model\n",
    "model_xgboost = xgb_rscv.fit(x_train_s1, y_train_s1)\n",
    "y_pred1 = model_xgboost.predict(x_test1)\n",
    "yscore_raw = model_xgboost.predict_proba(x_test1)\n",
    "yscore = [s[1] for s in yscore_raw]\n",
    "fpr, tpr, thresh = roc_curve(y_test1, yscore)\n",
    "fpr1, tpr1, thresh1 = roc_curve(y_test1, y_pred1)\n",
    "auc = roc_auc_score(y_test1, yscore)\n",
    "prauc = average_precision_score(y_test1, yscore)\n",
    "f1 = f1_score(y_test1,y_pred1,average=\"weighted\")\n",
    "\n",
    "print(\"Model 4:\")\n",
    "print(\"XGB Accuracy : \", metrics.accuracy_score(y_test1, y_pred1))\n",
    "print(\"XGB AUC : \", auc)\n",
    "print(\"XGB PRAUC : \", prauc)\n",
    "print(\"XGB F1 : \", f1)"
   ]
  },
  {
   "cell_type": "code",
   "execution_count": 5,
   "metadata": {},
   "outputs": [
    {
     "name": "stdout",
     "output_type": "stream",
     "text": [
      "Model 3:\n",
      "XGB Accuracy : 0.9101662463627546\n",
      "XGB AUC : 0.7071555338161541\n",
      "XGB PRAUC : 0.5703484018264849\n",
      "XGB F1 : 0.9022044197488457\n"
     ]
    }
   ],
   "source": [
    "# Model 3 (FRAX CRFs + GRS)\n",
    "xgb_rscv = xgb.XGBClassifier( \n",
    "                             gamma=0.001, \n",
    "                             max_depth=5,\n",
    "                             reg_alpha=10, \n",
    "                             reg_lambda=10, \n",
    "                             n_estimators=400,\n",
    "                             learning_rate=1,\n",
    "                             subsample=0.8)\n",
    "\n",
    "model_xgboost = xgb_rscv.fit(x_train_s1, y_train_s1)\n",
    "y_pred1 = model_xgboost.predict(x_test1)\n",
    "yscore_raw = model_xgboost.predict_proba(x_test1)\n",
    "yscore = [s[1] for s in yscore_raw]\n",
    "fpr, tpr, thresh = roc_curve(y_test1, yscore)\n",
    "fpr1, tpr1, thresh1 = roc_curve(y_test1, y_pred1)\n",
    "auc = roc_auc_score(y_test1, yscore)\n",
    "prauc = average_precision_score(y_test1, yscore)\n",
    "f1 = f1_score(y_test1,y_pred1,average=\"weighted\")\n",
    "\n",
    "print(\"Model 3:\")\n",
    "print(\"XGB Accuracy : \", metrics.accuracy_score(y_test1, y_pred1))\n",
    "print(\"XGB AUC : \", auc)\n",
    "print(\"XGB PRAUC : \", prauc)\n",
    "print(\"XGB F1 : \", f1)"
   ]
  },
  {
   "cell_type": "code",
   "execution_count": 6,
   "metadata": {},
   "outputs": [
    {
     "name": "stdout",
     "output_type": "stream",
     "text": [
      "Model 2:\n",
      "XGB Accuracy : 0.9101662463627546\n",
      "XGB AUC : 0.7012791751572777\n",
      "XGB PRAUC : 0.5202288557213933\n",
      "XGB F1 : 0.9010564919695884\n"
     ]
    }
   ],
   "source": [
    "# Model 2 (FRAX CRFs)\n",
    "xgb_rscv = xgb.XGBClassifier(gamma=2.657459888168224, \n",
    "                             max_depth=4,\n",
    "                             reg_alpha=4.843365967683508, \n",
    "                             reg_lambda=6.781179876154992, \n",
    "                             n_estimators=137,\n",
    "                             learning_rate=0.8204518092103462,\n",
    "                             subsample=0.7960861103728022)\n",
    "\n",
    "\n",
    "# Fit the model\n",
    "model_xgboost = xgb_rscv.fit(x_train_s2, y_train_s2)\n",
    "y_pred2 = model_xgboost.predict(x_test2)\n",
    "yscore_raw = model_xgboost.predict_proba(x_test2)\n",
    "yscore = [s[1] for s in yscore_raw]\n",
    "fpr, tpr, thresh = roc_curve(y_test2, yscore)\n",
    "auc = roc_auc_score(y_test2, yscore)\n",
    "prauc = average_precision_score(y_test2, yscore)\n",
    "f1 = f1_score(y_test2,y_pred2,average=\"weighted\")\n",
    "\n",
    "print(\"Model 2:\")\n",
    "print(\"XGB Accuracy : \", metrics.accuracy_score(y_test2, y_pred2))\n",
    "print(\"XGB AUC : \", auc)\n",
    "print(\"XGB PRAUC : \", prauc)\n",
    "print(\"XGB F1 : \", f1)"
   ]
  },
  {
   "cell_type": "code",
   "execution_count": 7,
   "metadata": {},
   "outputs": [
    {
     "name": "stdout",
     "output_type": "stream",
     "text": [
      "Model 1:\n",
      "XGB Accuracy : 0.9082444228903976\n",
      "XGB AUC : 0.6907618659108573\n",
      "XGB PRAUC : 0.520095238095238\n",
      "XGB F1 : 0.8991749027804148\n"
     ]
    }
   ],
   "source": [
    "# Model 1 (FRAX CRFs)\n",
    "xgb_rscv = xgb.XGBClassifier(gamma=0.1, \n",
    "                             max_depth=5,\n",
    "                             reg_alpha=1, \n",
    "                             reg_lambda=100, \n",
    "                             n_estimators=400,\n",
    "                             learning_rate=1,\n",
    "                             subsample=0.8)\n",
    "\n",
    "\n",
    "\n",
    "# Fit the model\n",
    "model_xgboost = xgb_rscv.fit(x_train_s2, y_train_s2)\n",
    "y_pred2 = model_xgboost.predict(x_test2)\n",
    "yscore_raw = model_xgboost.predict_proba(x_test2)\n",
    "yscore = [s[1] for s in yscore_raw]\n",
    "fpr, tpr, thresh = roc_curve(y_test2, yscore)\n",
    "auc = roc_auc_score(y_test2, yscore)\n",
    "prauc = average_precision_score(y_test2, yscore)\n",
    "f1 = f1_score(y_test2,y_pred2,average=\"weighted\")\n",
    "\n",
    "print(\"Model 1:\")\n",
    "print(\"XGB Accuracy : \", metrics.accuracy_score(y_test2, y_pred2))\n",
    "print(\"XGB AUC : \", auc)\n",
    "print(\"XGB PRAUC : \", prauc)\n",
    "print(\"XGB F1 : \", f1)"
   ]
  },
  {
   "cell_type": "markdown",
   "metadata": {},
   "source": [
    "#### hip"
   ]
  },
  {
   "cell_type": "code",
   "execution_count": 8,
   "metadata": {},
   "outputs": [],
   "source": [
    "# dataset with FRAX CRFs and GRS\n",
    "with open('ready_whi_sp23_hip_py38', 'rb') as file_handler:\n",
    "    data = pickle.load(file_handler)\n",
    "    X1, Y1 = data.get('X', []).values, data.get('Y', []).values\n",
    "x_train1, x_test1, y_train1, y_test1 = train_test_split(X1, Y1, test_size=0.2,random_state=98)\n",
    "sm = SMOTE(random_state=2)\n",
    "x_train_s1, y_train_s1 = sm.fit_resample(x_train1, y_train1)"
   ]
  },
  {
   "cell_type": "code",
   "execution_count": 9,
   "metadata": {},
   "outputs": [],
   "source": [
    "# dataset with FRAX CRF (no grs)\n",
    "with open('ready_whi_sp23_hip_py38', 'rb') as file_handler:\n",
    "    data = pickle.load(file_handler)\n",
    "    X2, Y2 = data.get('X_nogrs', []).values, data.get('Y', []).values\n",
    "x_train2, x_test2, y_train2, y_test2 = train_test_split(X2, Y2, test_size=0.2,random_state=98)\n",
    "sm = SMOTE(random_state=2)\n",
    "x_train_s2, y_train_s2 = sm.fit_resample(x_train2, y_train2)"
   ]
  },
  {
   "cell_type": "code",
   "execution_count": 10,
   "metadata": {},
   "outputs": [
    {
     "name": "stdout",
     "output_type": "stream",
     "text": [
      "Model 4:\n",
      "XGB Accuracy : 0.9857045675413022\n",
      "XGB AUC : 0.7976665372560652\n",
      "XGB PRAUC : 0.5768571428571428\n",
      "XGB F1 : 0.9763283816339704\n"
     ]
    }
   ],
   "source": [
    "# Model 4 (FRAX CRFs + GRS)\n",
    "xgb_rscv = xgb.XGBClassifier( \n",
    "                             gamma=8.667459948122074, \n",
    "                             max_depth=6,\n",
    "                             reg_alpha=5.948836051062213, \n",
    "                             reg_lambda=7.831670870285606, \n",
    "                             n_estimators=38,\n",
    "                             learning_rate=0.6897253437008639,\n",
    "                             subsample=0.4411950009198089)\n",
    "\n",
    "\n",
    "#fit the model\n",
    "model_xgboost = xgb_rscv.fit(x_train_s1, y_train_s1)\n",
    "y_pred1 = model_xgboost.predict(x_test1)\n",
    "yscore_raw = model_xgboost.predict_proba(x_test1)\n",
    "yscore = [s[1] for s in yscore_raw]\n",
    "fpr, tpr, thresh = roc_curve(y_test1, yscore)\n",
    "fpr1, tpr1, thresh1 = roc_curve(y_test1, y_pred1)\n",
    "auc = roc_auc_score(y_test1, yscore)\n",
    "prauc = average_precision_score(y_test1, yscore)\n",
    "f1 = f1_score(y_test1,y_pred1,average=\"weighted\")\n",
    "\n",
    "print(\"Model 4: \")\n",
    "print(\"XGB Accuracy : \", metrics.accuracy_score(y_test1, y_pred1))\n",
    "print(\"XGB AUC : \", auc)\n",
    "print(\"XGB PRAUC : \", prauc)\n",
    "print(\"XGB F1 : \", f1)"
   ]
  },
  {
   "cell_type": "code",
   "execution_count": 11,
   "metadata": {},
   "outputs": [
    {
     "name": "stdout",
     "output_type": "stream",
     "text": [
      "Model 3:\n",
      "XGB Accuracy : 0.9852283770651118\n",
      "XGB AUC : 0.7586610517083493\n",
      "XGB PRAUC : 0.5768571428571428\n",
      "XGB F1 : 0.9813544834704495\n"
     ]
    }
   ],
   "source": [
    "# Model 3 (FRAX CRFs + GRS)\n",
    "xgb_rscv = xgb.XGBClassifier( \n",
    "                             gamma=0.001, \n",
    "                             max_depth=5,\n",
    "                             reg_alpha=10, \n",
    "                             reg_lambda=10, \n",
    "                             n_estimators=400,\n",
    "                             learning_rate=1,\n",
    "                             subsample=0.8)\n",
    "\n",
    "\n",
    "\n",
    "#fit the model\n",
    "model_xgboost = xgb_rscv.fit(x_train_s1, y_train_s1)\n",
    "y_pred1 = model_xgboost.predict(x_test1)\n",
    "yscore_raw = model_xgboost.predict_proba(x_test1)\n",
    "yscore = [s[1] for s in yscore_raw]\n",
    "fpr, tpr, thresh = roc_curve(y_test1, yscore)\n",
    "fpr1, tpr1, thresh1 = roc_curve(y_test1, y_pred1)\n",
    "auc = roc_auc_score(y_test1, yscore)\n",
    "prauc = average_precision_score(y_test1, yscore)\n",
    "f1 = f1_score(y_test1,y_pred1,average=\"weighted\")\n",
    "\n",
    "print(\"Model 3: \")\n",
    "print(\"XGB Accuracy : \", metrics.accuracy_score(y_test1, y_pred1))\n",
    "print(\"XGB AUC : \", auc)\n",
    "print(\"XGB PRAUC : \", prauc)\n",
    "print(\"XGB F1 : \", f1)"
   ]
  },
  {
   "cell_type": "code",
   "execution_count": 12,
   "metadata": {},
   "outputs": [
    {
     "name": "stdout",
     "output_type": "stream",
     "text": [
      "Model 2:\n",
      "XGB Accuracy : 0.9770651117589894\n",
      "XGB AUC : 0.7521217319523803\n",
      "XGB PRAUC : 0.5579491525423728\n",
      "XGB F1 : 0.9762762428415672\n"
     ]
    }
   ],
   "source": [
    "# Model 2 (FRAX CRFs)\n",
    "xgb_rscv = xgb.XGBClassifier(gamma=2.6699906002181897, \n",
    "                             max_depth=4,\n",
    "                             reg_alpha=5.9097900106221335, \n",
    "                             reg_lambda=10.80125087028611, \n",
    "                             n_estimators=109,\n",
    "                             learning_rate=0.99070348870674,\n",
    "                             subsample=0.24000103603942474)\n",
    "\n",
    "\n",
    "\n",
    "# Fit the model\n",
    "model_xgboost = xgb_rscv.fit(x_train_s2, y_train_s2)\n",
    "y_pred2 = model_xgboost.predict(x_test2)\n",
    "yscore_raw = model_xgboost.predict_proba(x_test2)\n",
    "yscore = [s[1] for s in yscore_raw]\n",
    "fpr, tpr, thresh = roc_curve(y_test2, yscore)\n",
    "auc = roc_auc_score(y_test2, yscore)\n",
    "prauc = average_precision_score(y_test2, yscore)\n",
    "f1 = f1_score(y_test2,y_pred2,average=\"weighted\")\n",
    "\n",
    "print(\"Model 2: \")\n",
    "print(\"XGB Accuracy : \", metrics.accuracy_score(y_test2, y_pred2))\n",
    "print(\"XGB AUC : \", auc)\n",
    "print(\"XGB PRAUC : \", prauc)\n",
    "print(\"XGB F1 : \", f1)"
   ]
  },
  {
   "cell_type": "code",
   "execution_count": 13,
   "metadata": {},
   "outputs": [
    {
     "name": "stdout",
     "output_type": "stream",
     "text": [
      "Model 1:\n",
      "XGB Accuracy : 0.9770621963070942\n",
      "XGB AUC : 0.7511447034089589\n",
      "XGB PRAUC : 0.5584782608695652\n",
      "XGB F1 : 0.9804868875127666\n"
     ]
    }
   ],
   "source": [
    "# Model 1 (FRAX CRFs)\n",
    "xgb_rscv = xgb.XGBClassifier(gamma=0.1, \n",
    "                             max_depth=5,\n",
    "                             reg_alpha=1, \n",
    "                             reg_lambda=100, \n",
    "                             n_estimators=400,\n",
    "                             learning_rate=1,\n",
    "                             subsample=0.5)\n",
    "\n",
    "\n",
    "\n",
    "# Fit the model\n",
    "model_xgboost = xgb_rscv.fit(x_train_s2, y_train_s2)\n",
    "y_pred2 = model_xgboost.predict(x_test2)\n",
    "yscore_raw = model_xgboost.predict_proba(x_test2)\n",
    "yscore = [s[1] for s in yscore_raw]\n",
    "fpr, tpr, thresh = roc_curve(y_test2, yscore)\n",
    "auc = roc_auc_score(y_test2, yscore)\n",
    "prauc = average_precision_score(y_test2, yscore)\n",
    "f1 = f1_score(y_test2,y_pred2,average=\"weighted\")\n",
    "\n",
    "print(\"Model 1: \")\n",
    "print(\"XGB Accuracy : \", metrics.accuracy_score(y_test2, y_pred2))\n",
    "print(\"XGB AUC : \", auc)\n",
    "print(\"XGB PRAUC : \", prauc)\n",
    "print(\"XGB F1 : \", f1)"
   ]
  },
  {
   "cell_type": "code",
   "execution_count": null,
   "metadata": {},
   "outputs": [],
   "source": []
  }
 ],
 "metadata": {
  "kernelspec": {
   "display_name": "Python 3 (ipykernel)",
   "language": "python",
   "name": "python3"
  },
  "language_info": {
   "codemirror_mode": {
    "name": "ipython",
    "version": 3
   },
   "file_extension": ".py",
   "mimetype": "text/x-python",
   "name": "python",
   "nbconvert_exporter": "python",
   "pygments_lexer": "ipython3",
   "version": "3.9.12"
  }
 },
 "nbformat": 4,
 "nbformat_minor": 4
}
