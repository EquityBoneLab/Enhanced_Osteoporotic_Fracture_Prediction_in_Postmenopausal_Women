{
 "cells": [
  {
   "cell_type": "code",
   "execution_count": 1,
   "metadata": {},
   "outputs": [],
   "source": [
    "from imblearn.over_sampling import SMOTE\n",
    "from scipy import stats\n",
    "from sklearn import metrics\n",
    "from sklearn.metrics import confusion_matrix, roc_auc_score, roc_curve,f1_score,average_precision_score,precision_recall_curve\n",
    "from sklearn.model_selection import KFold\n",
    "from sklearn.model_selection import train_test_split\n",
    "from sklearn.model_selection import cross_val_score\n",
    "import numpy\n",
    "import numpy as np\n",
    "import pandas as pd\n",
    "import pickle\n",
    "from sklearn.svm import SVC"
   ]
  },
  {
   "cell_type": "markdown",
   "metadata": {},
   "source": [
    "#### mof"
   ]
  },
  {
   "cell_type": "code",
   "execution_count": 2,
   "metadata": {},
   "outputs": [],
   "source": [
    "# dataset with FRAX CRFs and GRS\n",
    "with open('ready_whi_sp23', 'rb') as file_handler:\n",
    "    data = pickle.load(file_handler)\n",
    "    X1, Y1 = data.get('X', []).values, data.get('Y', []).values\n",
    "x_train1, x_test1, y_train1, y_test1 = train_test_split(X1, Y1, test_size=0.2,random_state=98)\n",
    "sm = SMOTE(random_state=2)\n",
    "x_train_s1, y_train_s1 = sm.fit_resample(x_train1, y_train1)"
   ]
  },
  {
   "cell_type": "code",
   "execution_count": 3,
   "metadata": {},
   "outputs": [],
   "source": [
    "# dataset with FRAX CRFs (no grs)\n",
    "with open('ready_whi_sp23', 'rb') as file_handler:\n",
    "    data = pickle.load(file_handler)\n",
    "    X2, Y2 = data.get('X_nogrs', []).values, data.get('Y', []).values\n",
    "x_train2, x_test2, y_train2, y_test2 = train_test_split(X2, Y2, test_size=0.2,random_state=98)\n",
    "sm = SMOTE(random_state=2)\n",
    "x_train_s2, y_train_s2 = sm.fit_resample(x_train2, y_train2)"
   ]
  },
  {
   "cell_type": "code",
   "execution_count": 4,
   "metadata": {},
   "outputs": [
    {
     "name": "stdout",
     "output_type": "stream",
     "text": [
      "Model 4:\n",
      "SVM Accuracy : 0.7881387002909797\n",
      "SVM AUC : 0.6213251862134388\n",
      "SVM PRAUC : 0.5698777219430485\n",
      "SVM F1 : 0.8338718044179012\n"
     ]
    }
   ],
   "source": [
    "# Model 4 (FRAX CRFs + GRS)\n",
    "model = SVC(C=8.011446423096377, \n",
    "            gamma = 8.516858389169544, \n",
    "            kernel = 'rbf',probability=True)\n",
    "model.fit(x_train_s1, y_train_s1)\n",
    "y_pred1 = model.predict(x_test1)\n",
    "yscore_raw = model.predict_proba(x_test1)\n",
    "yscore1 = [s[1] for s in yscore_raw]\n",
    "fpr1, tpr1, thresh1 = roc_curve(y_test1, yscore1)\n",
    "auc = roc_auc_score(y_test1, yscore1)\n",
    "prauc = average_precision_score(y_test1, yscore1)\n",
    "f1 = f1_score(y_test1,y_pred1,average=\"weighted\")\n",
    "\n",
    "print(\"Model 4: \")\n",
    "print(\"SVM Accuracy : \", metrics.accuracy_score(y_test1, y_pred1))\n",
    "print(\"SVM AUC : \", auc)\n",
    "print(\"SVM PRAUC : \", prauc)\n",
    "print(\"SVM F1 : \", f1)"
   ]
  },
  {
   "cell_type": "code",
   "execution_count": 5,
   "metadata": {},
   "outputs": [
    {
     "name": "stdout",
     "output_type": "stream",
     "text": [
      "Model 3:\n",
      "SVM Accuracy : 0.7951383123181378\n",
      "SVM AUC : 0.6131922323314735\n",
      "SVM PRAUC : 0.5704112149532712\n",
      "SVM F1 : 0.8384626578637067\n"
     ]
    }
   ],
   "source": [
    "# Model 3 (FRAX CRFs + GRS)\n",
    "model = SVC(C=10, \n",
    "            gamma = 10, \n",
    "            kernel = 'rbf',probability=True)\n",
    "model.fit(x_train_s1, y_train_s1)\n",
    "y_pred1 = model.predict(x_test1)\n",
    "yscore_raw = model.predict_proba(x_test1)\n",
    "yscore1 = [s[1] for s in yscore_raw]\n",
    "fpr1, tpr1, thresh1 = roc_curve(y_test1, yscore1)\n",
    "auc = roc_auc_score(y_test1, yscore1)\n",
    "prauc = average_precision_score(y_test1, yscore1)\n",
    "f1 = f1_score(y_test1,y_pred1,average=\"weighted\")\n",
    "\n",
    "print(\"Model 3: \")\n",
    "print(\"SVM Accuracy : \", metrics.accuracy_score(y_test1, y_pred1))\n",
    "print(\"SVM AUC : \", auc)\n",
    "print(\"SVM PRAUC : \", prauc)\n",
    "print(\"SVM F1 : \", f1)"
   ]
  },
  {
   "cell_type": "code",
   "execution_count": 6,
   "metadata": {},
   "outputs": [
    {
     "name": "stdout",
     "output_type": "stream",
     "text": [
      "Model 2:\n",
      "SVM Accuracy : 0.7891187196896217\n",
      "SVM AUC : 0.5781332771374106\n",
      "SVM PRAUC : 0.5203166496424922\n",
      "SVM F1 : 0.8352576416415131\n"
     ]
    }
   ],
   "source": [
    "# Model 2 (FRAX CRFs)\n",
    "model = SVC(C=11.714295736628298, \n",
    "            gamma = 20.900409473930125, \n",
    "            kernel = 'rbf',probability=True)\n",
    "model.fit(x_train_s2, y_train_s2)\n",
    "y_pred2 = model.predict(x_test2)\n",
    "yscore_raw = model.predict_proba(x_test2)\n",
    "yscore2 = [s[1] for s in yscore_raw]\n",
    "fpr2, tpr2, thresh2 = roc_curve(y_test2, yscore2)\n",
    "auc = roc_auc_score(y_test2, yscore2)\n",
    "prauc = average_precision_score(y_test2, yscore2)\n",
    "f1 = f1_score(y_test2,y_pred2,average=\"weighted\")\n",
    "\n",
    "print(\"Model 2: \")\n",
    "print(\"SVM Accuracy : \", metrics.accuracy_score(y_test2, y_pred2))\n",
    "print(\"SVM AUC : \", auc)\n",
    "print(\"SVM PRAUC : \", prauc)\n",
    "print(\"SVM F1 : \", f1)"
   ]
  },
  {
   "cell_type": "code",
   "execution_count": 7,
   "metadata": {},
   "outputs": [
    {
     "name": "stdout",
     "output_type": "stream",
     "text": [
      "Model 1:\n",
      "SVM Accuracy : 0.7610087293889428\n",
      "SVM AUC : 0.5676380196350616\n",
      "SVM PRAUC : 0.5203094209161625\n",
      "SVM F1 : 0.8172879988083327\n"
     ]
    }
   ],
   "source": [
    "# Model 1 (FRAX CRFs)\n",
    "model = SVC(C=10, \n",
    "            gamma = 10, \n",
    "            kernel = 'rbf',probability=True)\n",
    "model.fit(x_train_s2, y_train_s2)\n",
    "y_pred2 = model.predict(x_test2)\n",
    "yscore_raw = model.predict_proba(x_test2)\n",
    "yscore2 = [s[1] for s in yscore_raw]\n",
    "fpr2, tpr2, thresh2 = roc_curve(y_test2, yscore2)\n",
    "auc = roc_auc_score(y_test2, yscore2)\n",
    "prauc = average_precision_score(y_test2, yscore2)\n",
    "f1 = f1_score(y_test2,y_pred2,average=\"weighted\")\n",
    "\n",
    "print(\"Model 1: \")\n",
    "print(\"SVM Accuracy : \", metrics.accuracy_score(y_test2, y_pred2))\n",
    "print(\"SVM AUC : \", auc)\n",
    "print(\"SVM PRAUC : \", prauc)\n",
    "print(\"SVM F1 : \", f1)"
   ]
  },
  {
   "cell_type": "markdown",
   "metadata": {},
   "source": [
    "#### hip"
   ]
  },
  {
   "cell_type": "code",
   "execution_count": 8,
   "metadata": {},
   "outputs": [],
   "source": [
    "# dataset with FRAX CRFs and GRS\n",
    "with open('ready_whi_sp23_hip_py38', 'rb') as file_handler:\n",
    "    data = pickle.load(file_handler)\n",
    "    X1, Y1 = data.get('X', []).values, data.get('Y', []).values\n",
    "x_train1, x_test1, y_train1, y_test1 = train_test_split(X1, Y1, test_size=0.2,random_state=98)\n",
    "sm = SMOTE(random_state=2)\n",
    "x_train_s1, y_train_s1 = sm.fit_resample(x_train1, y_train1)"
   ]
  },
  {
   "cell_type": "code",
   "execution_count": 9,
   "metadata": {},
   "outputs": [],
   "source": [
    "# dataset with FRAX CRF (no grs)\n",
    "with open('ready_whi_sp23_hip_py38', 'rb') as file_handler:\n",
    "    data = pickle.load(file_handler)\n",
    "    X2, Y2 = data.get('X_nogrs', []).values, data.get('Y', []).values\n",
    "x_train2, x_test2, y_train2, y_test2 = train_test_split(X2, Y2, test_size=0.2,random_state=98)\n",
    "sm = SMOTE(random_state=2)\n",
    "x_train_s2, y_train_s2 = sm.fit_resample(x_train2, y_train2)"
   ]
  },
  {
   "cell_type": "code",
   "execution_count": 10,
   "metadata": {},
   "outputs": [
    {
     "name": "stdout",
     "output_type": "stream",
     "text": [
      "Model 4:\n",
      "SVM Accuracy : 0.8520894071914482\n",
      "SVM AUC : 0.7153686912331841\n",
      "SVM PRAUC : 0.5774426229508196\n",
      "SVM F1 : 0.9085331355820767\n"
     ]
    }
   ],
   "source": [
    "# Model 4 (FRAX CRFs + GRS)\n",
    "model = SVC(C=1.2351702914303146, \n",
    "            gamma = 1.032948099274697, \n",
    "            kernel = 'rbf',probability=True)\n",
    "model.fit(x_train_s1, y_train_s1)\n",
    "y_pred1 = model.predict(x_test1)\n",
    "yscore_raw = model.predict_proba(x_test1)\n",
    "yscore1 = [s[1] for s in yscore_raw]\n",
    "fpr1, tpr1, thresh1 = roc_curve(y_test1, yscore1)\n",
    "auc = roc_auc_score(y_test1, yscore1)\n",
    "prauc = average_precision_score(y_test1, yscore1)\n",
    "f1 = f1_score(y_test1,y_pred1,average=\"weighted\")\n",
    "\n",
    "print(\"Model 4: \")\n",
    "print(\"SVM Accuracy : \", metrics.accuracy_score(y_test1, y_pred1))\n",
    "print(\"SVM AUC : \", auc)\n",
    "print(\"SVM PRAUC : \", prauc)\n",
    "print(\"SVM F1 : \", f1)"
   ]
  },
  {
   "cell_type": "code",
   "execution_count": 11,
   "metadata": {},
   "outputs": [
    {
     "name": "stdout",
     "output_type": "stream",
     "text": [
      "Model 3:\n",
      "SVM Accuracy : 0.9113702623906705\n",
      "SVM AUC : 0.6320004256361972\n",
      "SVM PRAUC : 0.5769016393442623\n",
      "SVM F1 : 0.9422155132788524\n"
     ]
    }
   ],
   "source": [
    "# Model 3 (FRAX CRFs + GRS)\n",
    "model = SVC(C=5, \n",
    "            gamma = 5, \n",
    "            kernel = 'rbf',probability=True)\n",
    "model.fit(x_train_s1, y_train_s1)\n",
    "y_pred1 = model.predict(x_test1)\n",
    "yscore_raw = model.predict_proba(x_test1)\n",
    "yscore1 = [s[1] for s in yscore_raw]\n",
    "fpr1, tpr1, thresh1 = roc_curve(y_test1, yscore1)\n",
    "auc = roc_auc_score(y_test1, yscore1)\n",
    "prauc = average_precision_score(y_test1, yscore1)\n",
    "f1 = f1_score(y_test1,y_pred1,average=\"weighted\")\n",
    "\n",
    "print(\"Model 3: \")\n",
    "print(\"SVM Accuracy : \", metrics.accuracy_score(y_test1, y_pred1))\n",
    "print(\"SVM AUC : \", auc)\n",
    "print(\"SVM PRAUC : \", prauc)\n",
    "print(\"SVM F1 : \", f1)"
   ]
  },
  {
   "cell_type": "code",
   "execution_count": 12,
   "metadata": {
    "scrolled": true
   },
   "outputs": [
    {
     "name": "stdout",
     "output_type": "stream",
     "text": [
      "Model 2:\n",
      "SVM Accuracy : 0.8499961127308066\n",
      "SVM AUC : 0.5890240677922378\n",
      "SVM PRAUC : 0.5580819672131146\n",
      "SVM F1 : 0.9232159728287871\n"
     ]
    }
   ],
   "source": [
    "# Model 2 (FRAX CRFs)\n",
    "model = SVC(C=1.0953301847329402, \n",
    "            gamma = 1.0717255846156497, \n",
    "            kernel = 'rbf',probability=True)\n",
    "model.fit(x_train_s2, y_train_s2)\n",
    "y_pred2 = model.predict(x_test2)\n",
    "yscore_raw = model.predict_proba(x_test2)\n",
    "yscore2 = [s[1] for s in yscore_raw]\n",
    "fpr2, tpr2, thresh2 = roc_curve(y_test2, yscore2)\n",
    "auc = roc_auc_score(y_test2, yscore2)\n",
    "prauc = average_precision_score(y_test2, yscore2)\n",
    "f1 = f1_score(y_test2,y_pred2,average=\"weighted\")\n",
    "\n",
    "print(\"Model 2: \")\n",
    "print(\"SVM Accuracy : \", metrics.accuracy_score(y_test2, y_pred2))\n",
    "print(\"SVM AUC : \", auc)\n",
    "print(\"SVM PRAUC : \", prauc)\n",
    "print(\"SVM F1 : \", f1)"
   ]
  },
  {
   "cell_type": "code",
   "execution_count": 13,
   "metadata": {},
   "outputs": [
    {
     "name": "stdout",
     "output_type": "stream",
     "text": [
      "Model 1:\n",
      "SVM Accuracy : 0.8226151603498542\n",
      "SVM AUC : 0.5564306535450336\n",
      "SVM PRAUC : 0.5583278688524592\n",
      "SVM F1 : 0.9094467261080339\n"
     ]
    }
   ],
   "source": [
    "# Model 1 (FRAX CRFs)\n",
    "model = SVC(C=5, \n",
    "            gamma = 5, \n",
    "            kernel = 'rbf',probability=True)\n",
    "model.fit(x_train_s2, y_train_s2)\n",
    "y_pred2 = model.predict(x_test2)\n",
    "yscore_raw = model.predict_proba(x_test2)\n",
    "yscore2 = [s[1] for s in yscore_raw]\n",
    "fpr2, tpr2, thresh2 = roc_curve(y_test2, yscore2)\n",
    "auc = roc_auc_score(y_test2, yscore2)\n",
    "prauc = average_precision_score(y_test2, yscore2)\n",
    "f1 = f1_score(y_test2,y_pred2,average=\"weighted\")\n",
    "\n",
    "print(\"Model 1: \")\n",
    "print(\"SVM Accuracy : \", metrics.accuracy_score(y_test2, y_pred2))\n",
    "print(\"SVM AUC : \", auc)\n",
    "print(\"SVM PRAUC : \", prauc)\n",
    "print(\"SVM F1 : \", f1)"
   ]
  },
  {
   "cell_type": "code",
   "execution_count": null,
   "metadata": {},
   "outputs": [],
   "source": []
  }
 ],
 "metadata": {
  "kernelspec": {
   "display_name": "Python 3 (ipykernel)",
   "language": "python",
   "name": "python3"
  },
  "language_info": {
   "codemirror_mode": {
    "name": "ipython",
    "version": 3
   },
   "file_extension": ".py",
   "mimetype": "text/x-python",
   "name": "python",
   "nbconvert_exporter": "python",
   "pygments_lexer": "ipython3",
   "version": "3.9.12"
  }
 },
 "nbformat": 4,
 "nbformat_minor": 4
}
