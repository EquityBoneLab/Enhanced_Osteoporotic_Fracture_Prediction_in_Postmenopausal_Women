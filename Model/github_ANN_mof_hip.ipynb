{
 "cells": [
  {
   "cell_type": "code",
   "execution_count": 1,
   "metadata": {},
   "outputs": [],
   "source": [
    "import numpy as np\n",
    "import pandas as pd\n",
    "import matplotlib.pyplot as plt\n",
    "from sklearn.model_selection import train_test_split\n",
    "from sklearn.model_selection import cross_val_score\n",
    "from sklearn.metrics import roc_curve\n",
    "from sklearn.metrics import auc\n",
    "from sklearn.metrics import confusion_matrix\n",
    "from sklearn import metrics\n",
    "from sklearn.metrics import confusion_matrix, roc_auc_score, roc_curve,f1_score,average_precision_score\n",
    "from keras.models import Sequential\n",
    "from keras.layers import Dense, BatchNormalization, Dropout\n",
    "from keras.optimizers import Adam, SGD, RMSprop, Adadelta, Adagrad, Adamax, Nadam\n",
    "from keras.callbacks import EarlyStopping, ModelCheckpoint\n",
    "from keras.wrappers.scikit_learn import KerasClassifier\n",
    "from math import floor\n",
    "from sklearn.metrics import make_scorer, accuracy_score\n",
    "from bayes_opt import BayesianOptimization\n",
    "from sklearn.model_selection import StratifiedKFold\n",
    "from keras.layers import LeakyReLU\n",
    "from tensorflow import keras\n",
    "from tensorflow.keras import layers\n",
    "LeakyReLU = LeakyReLU(alpha=0.1)\n",
    "import warnings\n",
    "warnings.filterwarnings('ignore')\n",
    "pd.set_option(\"display.max_columns\", None)\n",
    "import pickle\n",
    "from imblearn.over_sampling import SMOTE "
   ]
  },
  {
   "cell_type": "markdown",
   "metadata": {},
   "source": [
    "#### mof"
   ]
  },
  {
   "cell_type": "code",
   "execution_count": 2,
   "metadata": {},
   "outputs": [],
   "source": [
    "# dataset with FRAX CRFs and GRS\n",
    "with open('ready_whi_sp23', 'rb') as file_handler:\n",
    "    data = pickle.load(file_handler)\n",
    "    X1, Y1 = data.get('X', []).values, data.get('Y', []).values\n",
    "x_train1, x_test1, y_train1, y_test1 = train_test_split(X1, Y1, test_size=0.2,random_state=98)\n",
    "sm = SMOTE(random_state=2)\n",
    "x_train_s1, y_train_s1 = sm.fit_resample(x_train1, y_train1)"
   ]
  },
  {
   "cell_type": "code",
   "execution_count": 3,
   "metadata": {},
   "outputs": [],
   "source": [
    "# dataset with FRAX CRFs (no grs)\n",
    "with open('ready_whi_sp23', 'rb') as file_handler:\n",
    "    data = pickle.load(file_handler)\n",
    "    X2, Y2 = data.get('X_nogrs', []).values, data.get('Y', []).values\n",
    "x_train2, x_test2, y_train2, y_test2 = train_test_split(X2, Y2, test_size=0.2,random_state=98)\n",
    "sm = SMOTE(random_state=2)\n",
    "x_train_s2, y_train_s2 = sm.fit_resample(x_train2, y_train2)"
   ]
  },
  {
   "cell_type": "code",
   "execution_count": 4,
   "metadata": {},
   "outputs": [
    {
     "name": "stdout",
     "output_type": "stream",
     "text": [
      "Model 4:\n",
      "ANN Accuracy : 0.6857419980601358\n",
      "ANN AUC : 0.7291888195891768\n",
      "ANN PRAUC : 0.5205898574052006\n",
      "ANN F1 : 0.7669314690579995\n"
     ]
    }
   ],
   "source": [
    "# Model 4 (FRAX CRFs + GRS)\n",
    "batch_size=614\n",
    "dropout=0.08405376347880598\n",
    "epochs=43\n",
    "learning_rate=0.6341016716921827\n",
    "neurons=2317\n",
    "\n",
    "def create_model(neurons,learning_rate, dropout,batch_size, epochs):\n",
    "    model = Sequential()\n",
    "    model.add(Dense(neurons, input_dim=31, kernel_initializer='normal', \n",
    "                    activation='sigmoid'))\n",
    "    model.add(Dropout(dropout))\n",
    "    model.add(Dense(1, activation='sigmoid'))\n",
    "    opt=keras.optimizers.Adam(learning_rate)\n",
    "    model.compile(loss='binary_crossentropy', \n",
    "                  optimizer='adam',\n",
    "                  metrics=['accuracy'])\n",
    "    return model\n",
    "\n",
    "nn = create_model(neurons,learning_rate, dropout,batch_size, epochs)\n",
    "nn.fit(x_train_s1, y_train_s1,epochs=epochs,batch_size=batch_size,verbose=0)\n",
    "y_pred1 = nn.predict(x_test1)\n",
    "y_pred_value1 = np.where(y_pred1 > 0.5, 1, 0)\n",
    "yscore_raw=np.argmax(y_pred1,axis=1) \n",
    "auc = metrics.roc_auc_score(y_test1, y_pred_value1)\n",
    "prauc = average_precision_score(y_test1, yscore_raw)\n",
    "f1=f1_score(y_test1, y_pred_value1, average=\"weighted\")\n",
    "print(\"Model 4: \")\n",
    "print(\"ANN Accuracy : \", metrics.accuracy_score(y_test1, y_pred_value1))\n",
    "print(\"ANN AUC : \", auc)\n",
    "print(\"ANN PRAUC : \", prauc)\n",
    "print(\"ANN F1 : \", f1)"
   ]
  },
  {
   "cell_type": "code",
   "execution_count": 5,
   "metadata": {},
   "outputs": [
    {
     "name": "stdout",
     "output_type": "stream",
     "text": [
      "Model 3:\n",
      "ANN Accuracy : 0.684384093113482\n",
      "ANN AUC : 0.7270105831358098\n",
      "ANN PRAUC : 0.5202730951963284\n",
      "ANN F1 : 0.7653230299885692\n"
     ]
    }
   ],
   "source": [
    "# Model 3 (FRAX CRFs + GRS)\n",
    "batch_size=600\n",
    "dropout= 0.1\n",
    "epochs= 60\n",
    "learning_rate= 1\n",
    "neurons= 10000\n",
    "\n",
    "def create_model(neurons,learning_rate, dropout,batch_size, epochs):\n",
    "    model = Sequential()\n",
    "    model.add(Dense(neurons, input_dim=31, kernel_initializer='normal', \n",
    "                    activation='sigmoid'))\n",
    "    model.add(Dropout(dropout))\n",
    "    model.add(Dense(1, activation='sigmoid'))\n",
    "    # Compile model\n",
    "    opt=keras.optimizers.Adam(learning_rate)\n",
    "    model.compile(loss='binary_crossentropy', \n",
    "                  optimizer='adam',\n",
    "                  metrics=['accuracy'])\n",
    "    return model\n",
    "\n",
    "nn = create_model(neurons,learning_rate, dropout,batch_size, epochs)\n",
    "nn.fit(x_train_s1, y_train_s1,epochs=epochs,batch_size=batch_size,verbose=0)\n",
    "y_pred1 = nn.predict(x_test1)\n",
    "y_pred_value1 = np.where(y_pred1 > 0.5, 1, 0)\n",
    "yscore_raw=np.argmax(y_pred1,axis=1)\n",
    "auc = metrics.roc_auc_score(y_test1, y_pred_value1)\n",
    "prauc = average_precision_score(y_test1, yscore_raw)\n",
    "f1=f1_score(y_test1, y_pred_value1, average=\"weighted\")\n",
    "print(\"Model 3: \")\n",
    "print(\"ANN Accuracy : \", metrics.accuracy_score(y_test1, y_pred_value1))\n",
    "print(\"ANN AUC : \", auc)\n",
    "print(\"ANN PRAUC : \", prauc)\n",
    "print(\"ANN F1 : \", f1)"
   ]
  },
  {
   "cell_type": "code",
   "execution_count": 6,
   "metadata": {},
   "outputs": [
    {
     "name": "stdout",
     "output_type": "stream",
     "text": [
      "Model 2:\n",
      "ANN Accuracy : 0.637439379243453\n",
      "ANN AUC : 0.7150673384399444\n",
      "ANN PRAUC : 0.5199010742835821\n",
      "ANN F1 : 0.7300519913858992\n"
     ]
    }
   ],
   "source": [
    "# Model 2 (FRAX CRFs)\n",
    "batch_size=727\n",
    "dropout=0.010074801781291724\n",
    "epochs=60\n",
    "learning_rate=0.010630405728982002\n",
    "neurons=7277\n",
    "\n",
    "def create_model(neurons,learning_rate, dropout,batch_size, epochs):\n",
    "    model = Sequential()\n",
    "    model.add(Dense(neurons, input_dim=30, kernel_initializer='normal', \n",
    "                    activation='sigmoid'))\n",
    "    model.add(Dropout(dropout))\n",
    "    model.add(Dense(1, activation='sigmoid'))\n",
    "    opt=keras.optimizers.Adam(learning_rate)\n",
    "    model.compile(loss='binary_crossentropy', \n",
    "                  optimizer='adam',\n",
    "                  metrics=['accuracy'])\n",
    "    return model\n",
    "\n",
    "nn = create_model(neurons,learning_rate, dropout,batch_size, epochs)\n",
    "nn.fit(x_train_s2, y_train_s2,epochs=epochs,batch_size=batch_size,verbose=0)\n",
    "y_pred2 = nn.predict(x_test2)\n",
    "y_pred_value2 = np.where(y_pred2 > 0.5, 1, 0)\n",
    "yscore_raw=np.argmax(y_pred2,axis=1) \n",
    "auc = metrics.roc_auc_score(y_test2, y_pred_value2)\n",
    "prauc = average_precision_score(y_test2, yscore_raw)\n",
    "f1=f1_score(y_test2, y_pred_value2, average=\"weighted\")\n",
    "print(\"Model 2: \")\n",
    "print(\"ANN Accuracy : \", metrics.accuracy_score(y_test2, y_pred_value2))\n",
    "print(\"ANN AUC : \", auc)\n",
    "print(\"ANN PRAUC : \", prauc)\n",
    "print(\"ANN F1 : \", f1)"
   ]
  },
  {
   "cell_type": "code",
   "execution_count": 7,
   "metadata": {},
   "outputs": [
    {
     "name": "stdout",
     "output_type": "stream",
     "text": [
      "Model 1:\n",
      "ANN Accuracy : 0.6042090537019305\n",
      "ANN AUC : 0.7000519303790531\n",
      "ANN PRAUC : 0.5196941300394732\n",
      "ANN F1 : 0.7038744037284573\n"
     ]
    }
   ],
   "source": [
    "# Model 1 (FRAX CRFs)\n",
    "batch_size=600\n",
    "dropout=0.01\n",
    "epochs=60\n",
    "learning_rate= 0.1\n",
    "neurons= 10000\n",
    "\n",
    "def create_model(neurons,learning_rate, dropout,batch_size, epochs):\n",
    "    model = Sequential()\n",
    "    model.add(Dense(neurons, input_dim=30, kernel_initializer='normal', \n",
    "                    activation='sigmoid'))\n",
    "    model.add(Dropout(dropout))\n",
    "    model.add(Dense(1, activation='sigmoid'))\n",
    "    opt=keras.optimizers.Adam(learning_rate)\n",
    "    model.compile(loss='binary_crossentropy', \n",
    "                  optimizer='adam',\n",
    "                  metrics=['accuracy'])\n",
    "    return model\n",
    "\n",
    "nn = create_model(neurons,learning_rate, dropout,batch_size, epochs)\n",
    "nn.fit(x_train_s2, y_train_s2,epochs=epochs,batch_size=batch_size,verbose=0)\n",
    "y_pred2 = nn.predict(x_test2)\n",
    "y_pred_value2 = np.where(y_pred2 > 0.5, 1, 0)\n",
    "yscore_raw=np.argmax(y_pred2,axis=1) \n",
    "auc = metrics.roc_auc_score(y_test2, y_pred_value2)\n",
    "prauc = average_precision_score(y_test2, yscore_raw)\n",
    "f1=f1_score(y_test2, y_pred_value2, average=\"weighted\")\n",
    "print(\"Model 1: \")\n",
    "print(\"ANN Accuracy : \", metrics.accuracy_score(y_test2, y_pred_value2))\n",
    "print(\"ANN AUC : \", auc)\n",
    "print(\"ANN PRAUC : \", prauc)\n",
    "print(\"ANN F1 : \", f1)"
   ]
  },
  {
   "cell_type": "code",
   "execution_count": null,
   "metadata": {},
   "outputs": [],
   "source": []
  },
  {
   "cell_type": "markdown",
   "metadata": {},
   "source": [
    "#### hip"
   ]
  },
  {
   "cell_type": "code",
   "execution_count": 8,
   "metadata": {},
   "outputs": [],
   "source": [
    "# dataset with FRAX CRFs and GRS\n",
    "with open('ready_whi_sp23_hip_py38', 'rb') as file_handler:\n",
    "    data = pickle.load(file_handler)\n",
    "    X1, Y1 = data.get('X', []).values, data.get('Y', []).values\n",
    "x_train1, x_test1, y_train1, y_test1 = train_test_split(X1, Y1, test_size=0.2,random_state=98)\n",
    "sm = SMOTE(random_state=2)\n",
    "x_train_s1, y_train_s1 = sm.fit_resample(x_train1, y_train1)"
   ]
  },
  {
   "cell_type": "code",
   "execution_count": 9,
   "metadata": {},
   "outputs": [],
   "source": [
    "# dataset with FRAX CRF (no grs)\n",
    "with open('ready_whi_sp23_hip_py38', 'rb') as file_handler:\n",
    "    data = pickle.load(file_handler)\n",
    "    X2, Y2 = data.get('X_nogrs', []).values, data.get('Y', []).values\n",
    "x_train2, x_test2, y_train2, y_test2 = train_test_split(X2, Y2, test_size=0.2,random_state=98)\n",
    "sm = SMOTE(random_state=2)\n",
    "x_train_s2, y_train_s2 = sm.fit_resample(x_train2, y_train2)"
   ]
  },
  {
   "cell_type": "code",
   "execution_count": 10,
   "metadata": {},
   "outputs": [
    {
     "name": "stdout",
     "output_type": "stream",
     "text": [
      "Model 4:\n",
      "ANN Accuracy : 0.7593840931134824\n",
      "ANN AUC : 0.7820105831358098\n",
      "ANN PRAUC : 0.5581009345794392\n",
      "ANN F1 : 0.8439230299885692\n"
     ]
    }
   ],
   "source": [
    "# Model 4 (FRAX CRFs + GRS)\n",
    "batch_size=379\n",
    "dropout=0.16094530144701638\n",
    "epochs=56\n",
    "learning_rate=0.42106984357346283\n",
    "neurons=1016\n",
    "\n",
    "def create_model(neurons,learning_rate, dropout,batch_size, epochs):\n",
    "    model = Sequential()\n",
    "    model.add(Dense(neurons, input_dim=31, kernel_initializer='normal', \n",
    "                    activation='sigmoid'))\n",
    "    model.add(Dropout(dropout))\n",
    "    model.add(Dense(1, activation='sigmoid'))\n",
    "    opt=keras.optimizers.Adam(learning_rate)\n",
    "    model.compile(loss='binary_crossentropy', \n",
    "                  optimizer='adam',\n",
    "                  metrics=['accuracy'])\n",
    "    return model\n",
    "\n",
    "nn = create_model(neurons,learning_rate, dropout,batch_size, epochs)\n",
    "nn.fit(x_train_s1, y_train_s1,epochs=epochs,batch_size=batch_size,verbose=0)\n",
    "\n",
    "y_pred1 = nn.predict(x_test1)\n",
    "y_pred_value1 = np.where(y_pred1 > 0.5, 1, 0)\n",
    "yscore_raw=np.argmax(y_pred1,axis=1)\n",
    "auc = metrics.roc_auc_score(y_test1, y_pred_value1)\n",
    "prauc = average_precision_score(y_test1, yscore_raw)\n",
    "f1=f1_score(y_test1, y_pred_value1, average=\"weighted\")\n",
    "print(\"Model 4: \")\n",
    "print(\"ANN Accuracy : \", metrics.accuracy_score(y_test1, y_pred_value1))\n",
    "print(\"ANN AUC : \", auc)\n",
    "print(\"ANN PRAUC : \", prauc)\n",
    "print(\"ANN F1 : \", f1)"
   ]
  },
  {
   "cell_type": "code",
   "execution_count": 11,
   "metadata": {},
   "outputs": [
    {
     "name": "stdout",
     "output_type": "stream",
     "text": [
      "Model 3:\n",
      "ANN Accuracy : 0.7414393792434532\n",
      "ANN AUC : 0.7720673384399444\n",
      "ANN PRAUC : 0.5577383177570093\n",
      "ANN F1 : 0.8070519913858992\n"
     ]
    }
   ],
   "source": [
    "# Model 3 (FRAX CRFs + GRS)\n",
    "batch_size=600 \n",
    "dropout= 0.1 \n",
    "epochs= 20\n",
    "learning_rate= 1 \n",
    "neurons= 1000 \n",
    "\n",
    "\n",
    "def create_model(neurons,learning_rate, dropout,batch_size, epochs):\n",
    "    model = Sequential()\n",
    "    model.add(Dense(neurons, input_dim=31, kernel_initializer='normal', \n",
    "                    activation='sigmoid'))\n",
    "    model.add(Dropout(dropout))\n",
    "    model.add(Dense(1, activation='sigmoid'))\n",
    "    opt=keras.optimizers.Adam(learning_rate)\n",
    "    model.compile(loss='binary_crossentropy', \n",
    "                  optimizer='adam',\n",
    "                  metrics=['accuracy'])\n",
    "    return model\n",
    "\n",
    "\n",
    "nn = create_model(neurons,learning_rate, dropout,batch_size, epochs)\n",
    "nn.fit(x_train_s1, y_train_s1,epochs=epochs,batch_size=batch_size,verbose=0)\n",
    "y_pred1 = nn.predict(x_test1)\n",
    "y_pred_value1 = np.where(y_pred1 > 0.5, 1, 0)\n",
    "yscore_raw=np.argmax(y_pred1,axis=1)\n",
    "auc = metrics.roc_auc_score(y_test1, y_pred_value1)\n",
    "prauc = average_precision_score(y_test1, yscore_raw)\n",
    "f1=f1_score(y_test1, y_pred_value1, average=\"weighted\")\n",
    "print(\"Model 3: \")\n",
    "print(\"ANN Accuracy : \", metrics.accuracy_score(y_test1, y_pred_value1))\n",
    "print(\"ANN AUC : \", auc)\n",
    "print(\"ANN PRAUC : \", prauc)\n",
    "print(\"ANN F1 : \", f1)"
   ]
  },
  {
   "cell_type": "code",
   "execution_count": 12,
   "metadata": {},
   "outputs": [
    {
     "name": "stdout",
     "output_type": "stream",
     "text": [
      "Model 2:\n",
      "ANN Accuracy : 0.7457419980601357\n",
      "ANN AUC : 0.7321888195891768\n",
      "ANN PRAUC : 0.5579660922734851\n",
      "ANN F1 : 0.8249314690579995\n"
     ]
    }
   ],
   "source": [
    "# Model 2 (FRAX CRFs)\n",
    "batch_size=310\n",
    "dropout=0.010245102343775694\n",
    "epochs=77\n",
    "learning_rate=0.01037651141259692\n",
    "neurons=1249\n",
    "\n",
    "def create_model(neurons,learning_rate, dropout,batch_size, epochs):\n",
    "    model = Sequential()\n",
    "    model.add(Dense(neurons, input_dim=30, kernel_initializer='normal', \n",
    "                    activation='sigmoid'))\n",
    "    model.add(Dropout(dropout))\n",
    "    model.add(Dense(1, activation='sigmoid'))\n",
    "    opt=keras.optimizers.Adam(learning_rate)\n",
    "    model.compile(loss='binary_crossentropy', \n",
    "                  optimizer='adam',\n",
    "                  metrics=['accuracy'])\n",
    "    return model\n",
    "\n",
    "\n",
    "nn = create_model(neurons,learning_rate, dropout,batch_size, epochs)\n",
    "nn.fit(x_train_s2, y_train_s2,epochs=epochs,batch_size=batch_size,verbose=0)\n",
    "y_pred2 = nn.predict(x_test2)\n",
    "y_pred_value2 = np.where(y_pred2 > 0.5, 1, 0)\n",
    "yscore_raw=np.argmax(y_pred2,axis=1)\n",
    "auc = metrics.roc_auc_score(y_test2, y_pred_value2)\n",
    "prauc = average_precision_score(y_test2, yscore_raw)\n",
    "f1=f1_score(y_test2, y_pred_value2, average=\"weighted\")\n",
    "print(\"Model 2: \")\n",
    "print(\"ANN Accuracy : \", metrics.accuracy_score(y_test2, y_pred_value2))\n",
    "print(\"ANN AUC : \", auc)\n",
    "print(\"ANN PRAUC : \", prauc)\n",
    "print(\"ANN F1 : \", f1)"
   ]
  },
  {
   "cell_type": "code",
   "execution_count": 13,
   "metadata": {},
   "outputs": [
    {
     "name": "stdout",
     "output_type": "stream",
     "text": [
      "Model 1:\n",
      "ANN Accuracy : 0.6927179758558819\n",
      "ANN AUC : 0.7552820241441182\n",
      "ANN PRAUC : 0.5576930200811755\n",
      "ANN F1 : 0.8072162248643044\n"
     ]
    }
   ],
   "source": [
    "# Model 1 (FRAX CRFs)\n",
    "batch_size=600 \n",
    "dropout= 0.1 \n",
    "epochs= 20\n",
    "learning_rate= 1 \n",
    "neurons= 1000 \n",
    "\n",
    "\n",
    "def create_model(neurons,learning_rate, dropout,batch_size, epochs):\n",
    "    model = Sequential()\n",
    "    model.add(Dense(neurons, input_dim=30, kernel_initializer='normal', \n",
    "                    activation='sigmoid'))\n",
    "    model.add(Dropout(dropout))\n",
    "    model.add(Dense(1, activation='sigmoid'))\n",
    "    opt=keras.optimizers.Adam(learning_rate)\n",
    "    model.compile(loss='binary_crossentropy', \n",
    "                  optimizer='adam',\n",
    "                  metrics=['accuracy'])\n",
    "    return model\n",
    "\n",
    "nn = create_model(neurons,learning_rate, dropout,batch_size, epochs)\n",
    "nn.fit(x_train_s2, y_train_s2,epochs=epochs,batch_size=batch_size,verbose=0)\n",
    "y_pred2 = nn.predict(x_test2)\n",
    "y_pred_value2 = np.where(y_pred2 > 0.5, 1, 0)\n",
    "yscore_raw=np.argmax(y_pred2,axis=1) \n",
    "auc = metrics.roc_auc_score(y_test2, y_pred_value2)\n",
    "prauc = average_precision_score(y_test2, yscore_raw)\n",
    "f1=f1_score(y_test2, y_pred_value2, average=\"weighted\")\n",
    "print(\"Model 1: \")\n",
    "print(\"ANN Accuracy : \", metrics.accuracy_score(y_test2, y_pred_value2))\n",
    "print(\"ANN AUC : \", auc)\n",
    "print(\"ANN PRAUC : \", prauc)\n",
    "print(\"ANN F1 : \", f1)"
   ]
  },
  {
   "cell_type": "code",
   "execution_count": null,
   "metadata": {},
   "outputs": [],
   "source": []
  }
 ],
 "metadata": {
  "kernelspec": {
   "display_name": "Python 3 (ipykernel)",
   "language": "python",
   "name": "python3"
  },
  "language_info": {
   "codemirror_mode": {
    "name": "ipython",
    "version": 3
   },
   "file_extension": ".py",
   "mimetype": "text/x-python",
   "name": "python",
   "nbconvert_exporter": "python",
   "pygments_lexer": "ipython3",
   "version": "3.9.12"
  }
 },
 "nbformat": 4,
 "nbformat_minor": 4
}
