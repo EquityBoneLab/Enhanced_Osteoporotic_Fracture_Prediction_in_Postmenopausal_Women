{
 "cells": [
  {
   "cell_type": "code",
   "execution_count": 1,
   "metadata": {},
   "outputs": [],
   "source": [
    "import numpy as np\n",
    "import numpy\n",
    "import pandas as pd\n",
    "from sksurv.metrics import concordance_index_censored, brier_score, cumulative_dynamic_auc\n",
    "from sksurv.linear_model import CoxPHSurvivalAnalysis\n",
    "from sksurv.column import encode_categorical\n",
    "from sksurv.metrics import concordance_index_censored\n",
    "from sksurv.ensemble import ComponentwiseGradientBoostingSurvivalAnalysis\n",
    "from sksurv.ensemble import GradientBoostingSurvivalAnalysis\n",
    "\n",
    "from scipy import stats\n",
    "from sklearn import metrics\n",
    "from sklearn.metrics import confusion_matrix, roc_auc_score, roc_curve,f1_score\n",
    "from sklearn.model_selection import KFold\n",
    "from sklearn.model_selection import train_test_split\n",
    "from sklearn.model_selection import cross_val_score\n",
    "\n",
    "from sklearn.model_selection import ShuffleSplit, GridSearchCV\n",
    "from skopt import BayesSearchCV\n",
    "from imblearn.over_sampling import SMOTE\n",
    "from imblearn.over_sampling import SMOTENC"
   ]
  },
  {
   "cell_type": "code",
   "execution_count": 2,
   "metadata": {},
   "outputs": [],
   "source": [
    "x_train1 = pd.read_csv('/users/PAS2433/dai417osc/WHI_sp23/data/sp23_nobmd_Xtrain_0820.csv')\n",
    "y_train1 = pd.read_csv('/users/PAS2433/dai417osc/WHI_sp23/data/sp23_nobmd_Ytrain_competing_risk_0727.csv')\n",
    "x_test1 = pd.read_csv('/users/PAS2433/dai417osc/WHI_sp23/data/sp23_nobmd_Xtest_0820.csv')\n",
    "y_test1 = pd.read_csv('/users/PAS2433/dai417osc/WHI_sp23/data/sp23_nobmd_Ytest_competing_risk_0816_10y.csv')"
   ]
  },
  {
   "cell_type": "code",
   "execution_count": 3,
   "metadata": {},
   "outputs": [],
   "source": [
    "x_train1_grs = x_train1[[\"AGE\",\"HEIGHTX\",\"WEIGHTX\",\"DIABNW\",\"parental_hip_frac\",\"previous_frac\",\"DRNKSDAY_3_more\",\"CORT\",\"RHEUMAT\",\"Second_Osteo\",\"SCORE\",\n",
    "\"RACE_1\",\"RACE_2\",\"RACE_3\",\"RACE_4\",\"RACE_5\",\"SMOKING_2\",\"NUMFALLS_0\",\"NUMFALLS_1\",\"NUMFALLS_2\",\"NUMFALLS_3\"]]\n",
    "x_test1_grs = x_test1[[\"AGE\",\"HEIGHTX\",\"WEIGHTX\",\"DIABNW\",\"parental_hip_frac\",\"previous_frac\",\"DRNKSDAY_3_more\",\"CORT\",\"RHEUMAT\",\"Second_Osteo\",\"SCORE\",\n",
    "\"RACE_1\",\"RACE_2\",\"RACE_3\",\"RACE_4\",\"RACE_5\",\"SMOKING_2\",\"NUMFALLS_0\",\"NUMFALLS_1\",\"NUMFALLS_2\",\"NUMFALLS_3\"]]"
   ]
  },
  {
   "cell_type": "code",
   "execution_count": 4,
   "metadata": {},
   "outputs": [],
   "source": [
    "x_train1_nogrs = x_train1[[\"AGE\",\"HEIGHTX\",\"WEIGHTX\",\"DIABNW\",\"parental_hip_frac\",\"previous_frac\",\"DRNKSDAY_3_more\",\"CORT\",\"RHEUMAT\",\"Second_Osteo\",\n",
    "\"RACE_1\",\"RACE_2\",\"RACE_3\",\"RACE_4\",\"RACE_5\",\"SMOKING_2\",\"NUMFALLS_0\",\"NUMFALLS_1\",\"NUMFALLS_2\",\"NUMFALLS_3\"]]\n",
    "x_test1_nogrs = x_test1[[\"AGE\",\"HEIGHTX\",\"WEIGHTX\",\"DIABNW\",\"parental_hip_frac\",\"previous_frac\",\"DRNKSDAY_3_more\",\"CORT\",\"RHEUMAT\",\"Second_Osteo\",\n",
    "\"RACE_1\",\"RACE_2\",\"RACE_3\",\"RACE_4\",\"RACE_5\",\"SMOKING_2\",\"NUMFALLS_0\",\"NUMFALLS_1\",\"NUMFALLS_2\",\"NUMFALLS_3\"]]"
   ]
  },
  {
   "cell_type": "code",
   "execution_count": 5,
   "metadata": {},
   "outputs": [],
   "source": [
    "# Apply SMOTE to dataset with GRS\n",
    "x_train1smote = pd.concat([x_train1_grs,y_train1[[\"BKHIPDY\"]]], axis=1)\n",
    "y_train1smote = y_train1[[\"BKHIP\"]]\n",
    "sm = SMOTE(random_state=2, sampling_strategy=\"minority\")\n",
    "x_train_ss1, y_train_ss1 = sm.fit_resample(x_train1smote, y_train1smote)\n",
    "\n",
    "x_train_s1_grs = x_train_ss1.drop(\"BKHIPDY\", axis=1)\n",
    "y_train_s1_grs = pd.concat([y_train_ss1,x_train_ss1[[\"BKHIPDY\"]]], axis=1)\n",
    "\n",
    "# Apply SMOTE to dataset without GRS\n",
    "x_train1smote_nogrs = pd.concat([x_train1_nogrs,y_train1[[\"BKHIPDY\"]]], axis=1)\n",
    "y_train1smote_nogrs = y_train1[[\"BKHIP\"]]\n",
    "sm = SMOTE(random_state=2, sampling_strategy=\"minority\")\n",
    "x_train_ss1_nogrs, y_train_ss1 = sm.fit_resample(x_train1smote_nogrs, y_train1smote)\n",
    "\n",
    "x_train_s1_nogrs = x_train_ss1_nogrs.drop(\"BKHIPDY\", axis=1)\n",
    "y_train_s1_nogrs = pd.concat([y_train_ss1,x_train_ss1_nogrs[[\"BKHIPDY\"]]], axis=1)\n",
    "\n",
    "y_train1_array_grs_h = y_train_s1_grs[[\"BKHIP\",\"BKHIPDY\"]].to_numpy()\n",
    "aux = [(e1,e2) for e1,e2 in y_train1_array_grs_h]\n",
    "y_train1_array_rsf_grs_h = numpy.array(aux, dtype=[('Status', '?'), ('Survival_in_days', '<f8')])\n",
    "\n",
    "y_train1_array_nogrs_h = y_train_s1_nogrs[[\"BKHIP\",\"BKHIPDY\"]].to_numpy()\n",
    "aux = [(e1,e2) for e1,e2 in y_train1_array_nogrs_h]\n",
    "y_train1_array_rsf_nogrs_h = numpy.array(aux, dtype=[('Status', '?'), ('Survival_in_days', '<f8')])\n",
    "\n",
    "\n",
    "y_test1_array_h = y_test1[[\"BKHIP\",\"BKHIPDY\"]].to_numpy()\n",
    "aux = [(e1,e2) for e1,e2 in y_test1_array_h]\n",
    "y_test1_array_rsf_h = numpy.array(aux, dtype=[('Status', '?'), ('Survival_in_days', '<f8')])"
   ]
  },
  {
   "cell_type": "code",
   "execution_count": 6,
   "metadata": {},
   "outputs": [
    {
     "name": "stdout",
     "output_type": "stream",
     "text": [
      "Best Hyperparameters: OrderedDict([('learning_rate', 0.28974223277895816), ('max_depth', 4), ('n_estimators', 43)])\n"
     ]
    }
   ],
   "source": [
    "# Bayesian optimization for Model 4 (FRAX CRFs + GRS)\n",
    "param_space = {\n",
    "    'n_estimators': (20, 400), # The number of regression trees to create\n",
    "    'learning_rate': (0.01, 1.0), # learning rate shrinks the contribution of each tree by 'learning_rate'\n",
    "    'max_depth': (2, 4) # Maximum depth of the individual regression estimators\n",
    "}\n",
    "\n",
    "# Initialize the Bayesian optimization search\n",
    "opt = BayesSearchCV(\n",
    "    GradientBoostingSurvivalAnalysis(),\n",
    "    param_space,\n",
    "    n_iter=5,  \n",
    "    cv=10,\n",
    "    n_jobs=-1,  \n",
    "    verbose=0,  \n",
    "    n_points=1,  \n",
    "    random_state=0  \n",
    ")\n",
    "\n",
    "# Perform Bayesian optimization\n",
    "opt.fit(x_train_s1_grs, y_train1_array_rsf_grs_h)\n",
    "\n",
    "# Get the best hyperparameters\n",
    "best_params_bayes = opt.best_params_\n",
    "print(\"Best Hyperparameters:\", best_params_bayes)"
   ]
  },
  {
   "cell_type": "code",
   "execution_count": 7,
   "metadata": {},
   "outputs": [
    {
     "name": "stdout",
     "output_type": "stream",
     "text": [
      "Best Hyperparameters: OrderedDict([('learning_rate', 0.25697256091740617), ('max_depth', 4), ('n_estimators', 51)])\n"
     ]
    }
   ],
   "source": [
    "# Bayesian optimization for Model 2 (FRAX CRFs)\n",
    "param_space = {\n",
    "    'n_estimators': (20, 400), # The number of regression trees to create\n",
    "    'learning_rate': (0.01, 1.0), # learning rate shrinks the contribution of each tree by 'learning_rate'\n",
    "    'max_depth': (2, 4), # Maximum depth of the individual regression estimators\n",
    "}\n",
    "\n",
    "\n",
    "# Initialize the Bayesian optimization search\n",
    "opt = BayesSearchCV(\n",
    "    GradientBoostingSurvivalAnalysis(),\n",
    "    param_space,\n",
    "    n_iter=5,  \n",
    "    cv=10,\n",
    "    n_jobs=-1,  \n",
    "    verbose=0, \n",
    "    n_points=1,  \n",
    "    random_state=0  \n",
    ")\n",
    "\n",
    "# Perform Bayesian optimization\n",
    "opt.fit(x_train_s1_nogrs, y_train1_array_rsf_nogrs_h)\n",
    "\n",
    "# Get the best hyperparameters\n",
    "best_params_bayes = opt.best_params_\n",
    "print(\"Best Hyperparameters:\", best_params_bayes)"
   ]
  },
  {
   "cell_type": "code",
   "execution_count": null,
   "metadata": {},
   "outputs": [],
   "source": []
  }
 ],
 "metadata": {
  "kernelspec": {
   "display_name": "Python 3",
   "language": "python",
   "name": "python3"
  },
  "language_info": {
   "codemirror_mode": {
    "name": "ipython",
    "version": 3
   },
   "file_extension": ".py",
   "mimetype": "text/x-python",
   "name": "python",
   "nbconvert_exporter": "python",
   "pygments_lexer": "ipython3",
   "version": "3.6.12"
  }
 },
 "nbformat": 4,
 "nbformat_minor": 5
}
