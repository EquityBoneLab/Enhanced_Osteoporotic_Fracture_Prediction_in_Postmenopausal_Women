{
 "cells": [
  {
   "cell_type": "code",
   "execution_count": 1,
   "id": "2721cd2b",
   "metadata": {},
   "outputs": [],
   "source": [
    "import numpy as np\n",
    "import pandas as pd\n",
    "import matplotlib.pyplot as plt\n",
    "from sklearn.preprocessing import StandardScaler\n",
    "from sklearn_pandas import DataFrameMapper\n",
    "\n",
    "import torch\n",
    "import torchtuples as tt\n",
    "\n",
    "from pycox.datasets import metabric\n",
    "from pycox.models import CoxPH\n",
    "from pycox.evaluation import EvalSurv\n",
    "from levenberg_marquardt import LevenbergMarquardtReg"
   ]
  },
  {
   "cell_type": "code",
   "execution_count": 2,
   "id": "e9cd8c17",
   "metadata": {},
   "outputs": [],
   "source": [
    "xy_train1 = pd.read_csv('/users/PAS2433/dai417osc/WHI_sp23/data/sp23_nobmd_XYtrain_0820.csv')\n",
    "xy_test1 = pd.read_csv('/users/PAS2433/dai417osc/WHI_sp23/data/sp23_nobmd_XYtest_0820.csv')"
   ]
  },
  {
   "cell_type": "code",
   "execution_count": 3,
   "id": "736732a9",
   "metadata": {},
   "outputs": [],
   "source": [
    "xy_train1_grs = xy_train1[[\"AGE\",\"HEIGHTX\",\"WEIGHTX\",\"DIABNW\",\"parental_hip_frac\",\"previous_frac\",\"DRNKSDAY_3_more\",\"CORT\",\"RHEUMAT\",\"Second_Osteo\",\"SCORE\",\n",
    "\"RACE_1\",\"RACE_2\",\"RACE_3\",\"RACE_4\",\"RACE_5\",\"SMOKING_2\",\"NUMFALLS_0\",\"NUMFALLS_1\",\"NUMFALLS_2\",\"NUMFALLS_3\",\"DEATHALL\",\"mof\",\"mofDAY\",\"BKHIP\",\"BKHIPDY\"]]\n",
    "xy_test1_grs = xy_test1[[\"AGE\",\"HEIGHTX\",\"WEIGHTX\",\"DIABNW\",\"parental_hip_frac\",\"previous_frac\",\"DRNKSDAY_3_more\",\"CORT\",\"RHEUMAT\",\"Second_Osteo\",\"SCORE\",\n",
    "\"RACE_1\",\"RACE_2\",\"RACE_3\",\"RACE_4\",\"RACE_5\",\"SMOKING_2\",\"NUMFALLS_0\",\"NUMFALLS_1\",\"NUMFALLS_2\",\"NUMFALLS_3\",\"DEATHALL\",\"mof\",\"mofDAY\",\"BKHIP\",\"BKHIPDY\"]]\n",
    "xy_train1_nogrs = xy_train1[[\"AGE\",\"HEIGHTX\",\"WEIGHTX\",\"DIABNW\",\"parental_hip_frac\",\"previous_frac\",\"DRNKSDAY_3_more\",\"CORT\",\"RHEUMAT\",\"Second_Osteo\",\n",
    "\"RACE_1\",\"RACE_2\",\"RACE_3\",\"RACE_4\",\"RACE_5\",\"SMOKING_2\",\"NUMFALLS_0\",\"NUMFALLS_1\",\"NUMFALLS_2\",\"NUMFALLS_3\",\"DEATHALL\",\"mof\",\"mofDAY\",\"BKHIP\",\"BKHIPDY\"]]\n",
    "xy_test1_nogrs = xy_test1[[\"AGE\",\"HEIGHTX\",\"WEIGHTX\",\"DIABNW\",\"parental_hip_frac\",\"previous_frac\",\"DRNKSDAY_3_more\",\"CORT\",\"RHEUMAT\",\"Second_Osteo\",\n",
    "\"RACE_1\",\"RACE_2\",\"RACE_3\",\"RACE_4\",\"RACE_5\",\"SMOKING_2\",\"NUMFALLS_0\",\"NUMFALLS_1\",\"NUMFALLS_2\",\"NUMFALLS_3\",\"DEATHALL\",\"mof\",\"mofDAY\",\"BKHIP\",\"BKHIPDY\"]]"
   ]
  },
  {
   "cell_type": "code",
   "execution_count": 4,
   "id": "f0964106",
   "metadata": {},
   "outputs": [],
   "source": [
    "cols_leave = [\"AGE\",\"HEIGHTX\",\"WEIGHTX\",\"DIABNW\",\"parental_hip_frac\",\"previous_frac\",\"DRNKSDAY_3_more\",\"CORT\",\"RHEUMAT\",\"Second_Osteo\",\"SCORE\",\n",
    "\"RACE_1\",\"RACE_2\",\"RACE_3\",\"RACE_4\",\"RACE_5\",\"SMOKING_2\",\"NUMFALLS_0\",\"NUMFALLS_1\",\"NUMFALLS_2\",\"NUMFALLS_3\",\"DEATHALL\"]\n",
    "\n",
    "cols_leave_nogrs = [\"AGE\",\"HEIGHTX\",\"WEIGHTX\",\"DIABNW\",\"parental_hip_frac\",\"previous_frac\",\"DRNKSDAY_3_more\",\"CORT\",\"RHEUMAT\",\"Second_Osteo\",\n",
    "\"RACE_1\",\"RACE_2\",\"RACE_3\",\"RACE_4\",\"RACE_5\",\"SMOKING_2\",\"NUMFALLS_0\",\"NUMFALLS_1\",\"NUMFALLS_2\",\"NUMFALLS_3\",\"DEATHALL\"]\n",
    "\n",
    "leave = [(col, None) for col in cols_leave]\n",
    "leave_nogrs = [(col, None) for col in cols_leave_nogrs]\n",
    "\n",
    "\n",
    "x_mapper = DataFrameMapper(leave)\n",
    "x_mapper_nogrs = DataFrameMapper(leave_nogrs)"
   ]
  },
  {
   "cell_type": "code",
   "execution_count": 5,
   "id": "e617a09f",
   "metadata": {},
   "outputs": [],
   "source": [
    "x_train_grs = x_mapper.fit_transform(xy_train1_grs).astype('float32')\n",
    "x_test_grs = x_mapper.transform(xy_test1_grs).astype('float32')\n",
    "\n",
    "x_train_nogrs = x_mapper_nogrs.fit_transform(xy_train1_nogrs).astype('float32')\n",
    "x_test_nogrs = x_mapper_nogrs.fit_transform(xy_test1_nogrs).astype('float32')"
   ]
  },
  {
   "cell_type": "code",
   "execution_count": 6,
   "id": "8f8a54c0",
   "metadata": {},
   "outputs": [],
   "source": [
    "get_target = lambda df: (df['mofDAY'].values, df['mof'].values)\n",
    "y_train_mof = get_target(xy_train1_grs)\n",
    "durations_test_mof, events_test_mof = get_target(xy_test1_grs)"
   ]
  },
  {
   "cell_type": "code",
   "execution_count": 7,
   "id": "87a73bb8",
   "metadata": {},
   "outputs": [
    {
     "name": "stdout",
     "output_type": "stream",
     "text": [
      "0:\t[0s / 0s],\t\ttrain_loss: 931.9271\n",
      "1:\t[0s / 0s],\t\ttrain_loss: 1878.1660\n",
      "2:\t[0s / 0s],\t\ttrain_loss: 2096.4102\n",
      "3:\t[0s / 0s],\t\ttrain_loss: 2227.9536\n",
      "4:\t[0s / 0s],\t\ttrain_loss: 1847.5720\n",
      "5:\t[0s / 0s],\t\ttrain_loss: 1822.9082\n",
      "6:\t[0s / 0s],\t\ttrain_loss: 1418.7189\n",
      "7:\t[0s / 1s],\t\ttrain_loss: 1082.3897\n",
      "8:\t[0s / 1s],\t\ttrain_loss: 936.7400\n",
      "9:\t[0s / 1s],\t\ttrain_loss: 816.2570\n"
     ]
    }
   ],
   "source": [
    "# Model 4 (Bayesian optimization + FRAX CRFs + GRS)\n",
    "np.random.seed(1234)\n",
    "_ = torch.manual_seed(123)\n",
    "\n",
    "in_features = x_train_grs.shape[1]\n",
    "num_nodes = [2317,2317]\n",
    "out_features = 1\n",
    "batch_norm = True\n",
    "dropout = 0.08405376347880598\n",
    "learning_rate=0.6341016716921827\n",
    "output_bias = False\n",
    "\n",
    "net = tt.practical.MLPVanilla(in_features, num_nodes, out_features, batch_norm,\n",
    "                              dropout, output_bias=output_bias)\n",
    "model = CoxPH(net, tt.optim.Adam)\n",
    "batch_size = 614\n",
    "lrfinder = model.lr_finder(x_train_grs, y_train_mof, batch_size, tolerance=10)\n",
    "lrfinder.get_best_lr()\n",
    "model = CoxPH(net, tt.optim.Adam)\n",
    "batch_size = 614\n",
    "model.optimizer.set_lr(learning_rate)\n",
    "epochs = 43\n",
    "callbacks = [tt.callbacks.EarlyStopping()]\n",
    "verbose = True\n",
    "log = model.fit(x_train_grs, y_train_mof, batch_size, epochs, callbacks, verbose)"
   ]
  },
  {
   "cell_type": "code",
   "execution_count": 8,
   "id": "560eeca2",
   "metadata": {},
   "outputs": [
    {
     "name": "stdout",
     "output_type": "stream",
     "text": [
      "Initial WSS: 122.2542873644836\n",
      "Check after 10 iterations: % displacement = 1.6175459922317652, norm_theta = 0.8228195243379646\n",
      "Check after 20 iterations: % displacement = 0.00044684750884445605, norm_theta = 0.8284337643557455\n",
      "Check after 30 iterations: % displacement = 0.0, norm_theta = 0.8284337643557455\n",
      "\n",
      "*** RESULTS\n",
      "Estimated theta: [ 5.53319827e-01  6.16554668e-01 -1.13959113e-04]\n"
     ]
    }
   ],
   "source": [
    "_ = model.compute_baseline_hazards()\n",
    "surv_train = model.predict_surv_df(x_train_grs).tail(1)\n",
    "score_train_h = pd.DataFrame(surv_train, columns = [\"TrainScore\"])\n",
    "train_cal1=pd.concat([xy_train1_grs[[\"mof\"]],xy_train1[[\"WHOFRAC\"]] ],axis=\"columns\")\n",
    "train_cal2=pd.concat([train_cal1,score_train_h],axis=\"columns\")\n",
    "\n",
    "X, y = train_cal2[[\"WHOFRAC\"]].values, train_cal2[[\"TrainScore\"]].values\n",
    "theta_actual = np.array([15., 0.1, 0.4]) # Values that were used to generate the data\n",
    "sigma_actual = 0.6\n",
    "    \n",
    "# Define nonlinear model and declare LevenbergMarquardtReg class\n",
    "def f(X, theta):\n",
    "    return theta[0] * np.tanh(theta[1] + theta[2] * X[:, 0])\n",
    "lr = LevenbergMarquardtReg(model_fn = f)    \n",
    "\n",
    "# Fit model\n",
    "lr.fit(X, y, theta_init = np.ones(3)) # starting point = [1., 1., 1.]\n",
    "    \n",
    "# Display results\n",
    "expected_values = lr.__get_optimization_status__(theta_actual)\n",
    "print(\"\\n*** RESULTS\")\n",
    "print(\"Estimated theta: {}\".format(lr.theta))"
   ]
  },
  {
   "cell_type": "code",
   "execution_count": 9,
   "id": "90937881",
   "metadata": {},
   "outputs": [],
   "source": [
    "_ = model.compute_baseline_hazards()\n",
    "surv_test = model.predict_surv_df(x_test_grs)\n",
    "score_test = surv_test.tail(1)\n",
    "\n",
    "import math\n",
    "sigmoid = lambda x: 1 / (0.553319827 + math.exp(0.616554668*x))-0.000113959113\n",
    "sigmoid_v = np.vectorize(sigmoid) \n",
    "\n",
    "score_test_h = pd.DataFrame(sigmoid_v(score_test))\n",
    "score_test_h.columns = ['SANN']\n",
    "score_test_h.to_csv('/users/PAS2433/dai417osc/WHI_sp23/data/SANN_prob_mof.csv')"
   ]
  }
 ],
 "metadata": {
  "kernelspec": {
   "display_name": "Python 3.9 (Conda 2022.05) [python/3.9-2022.05]",
   "language": "python",
   "name": "python39_202205"
  },
  "language_info": {
   "codemirror_mode": {
    "name": "ipython",
    "version": 3
   },
   "file_extension": ".py",
   "mimetype": "text/x-python",
   "name": "python",
   "nbconvert_exporter": "python",
   "pygments_lexer": "ipython3",
   "version": "3.9.12"
  }
 },
 "nbformat": 4,
 "nbformat_minor": 5
}
