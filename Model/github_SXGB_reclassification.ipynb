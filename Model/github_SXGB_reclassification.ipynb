{
 "cells": [
  {
   "cell_type": "code",
   "execution_count": 1,
   "id": "2721cd2b",
   "metadata": {},
   "outputs": [],
   "source": [
    "import numpy as np\n",
    "import numpy\n",
    "import pandas as pd\n",
    "from sksurv.ensemble import ComponentwiseGradientBoostingSurvivalAnalysis\n",
    "from sksurv.ensemble import GradientBoostingSurvivalAnalysis\n",
    "from levenberg_marquardt import LevenbergMarquardtReg"
   ]
  },
  {
   "cell_type": "code",
   "execution_count": 2,
   "id": "e9cd8c17",
   "metadata": {},
   "outputs": [],
   "source": [
    "x_train1 = pd.read_csv('/users/PAS2433/dai417osc/WHI_sp23/data/sp23_nobmd_Xtrain_0820.csv')\n",
    "y_train1 = pd.read_csv('/users/PAS2433/dai417osc/WHI_sp23/data/sp23_nobmd_Ytrain_competing_risk_0727.csv')\n",
    "x_test1 = pd.read_csv('/users/PAS2433/dai417osc/WHI_sp23/data/sp23_nobmd_Xtest_0820.csv')\n",
    "y_test1 = pd.read_csv('/users/PAS2433/dai417osc/WHI_sp23/data/sp23_nobmd_Ytest_competing_risk_0816_10y.csv')"
   ]
  },
  {
   "cell_type": "code",
   "execution_count": 3,
   "id": "736732a9",
   "metadata": {},
   "outputs": [],
   "source": [
    "x_train1_grs = x_train1[[\"AGE\",\"HEIGHTX\",\"WEIGHTX\",\"DIABNW\",\"parental_hip_frac\",\"previous_frac\",\"DRNKSDAY_3_more\",\"CORT\",\"RHEUMAT\",\"Second_Osteo\",\"SCORE\",\n",
    "\"RACE_1\",\"RACE_2\",\"RACE_3\",\"RACE_4\",\"RACE_5\",\"SMOKING_2\",\"NUMFALLS_0\",\"NUMFALLS_1\",\"NUMFALLS_2\",\"NUMFALLS_3\"]]\n",
    "x_test1_grs = x_test1[[\"AGE\",\"HEIGHTX\",\"WEIGHTX\",\"DIABNW\",\"parental_hip_frac\",\"previous_frac\",\"DRNKSDAY_3_more\",\"CORT\",\"RHEUMAT\",\"Second_Osteo\",\"SCORE\",\n",
    "\"RACE_1\",\"RACE_2\",\"RACE_3\",\"RACE_4\",\"RACE_5\",\"SMOKING_2\",\"NUMFALLS_0\",\"NUMFALLS_1\",\"NUMFALLS_2\",\"NUMFALLS_3\"]]"
   ]
  },
  {
   "cell_type": "code",
   "execution_count": 4,
   "id": "e617a09f",
   "metadata": {},
   "outputs": [],
   "source": [
    "x_train1_nogrs = x_train1[[\"AGE\",\"HEIGHTX\",\"WEIGHTX\",\"DIABNW\",\"parental_hip_frac\",\"previous_frac\",\"DRNKSDAY_3_more\",\"CORT\",\"RHEUMAT\",\"Second_Osteo\",\n",
    "\"RACE_1\",\"RACE_2\",\"RACE_3\",\"RACE_4\",\"RACE_5\",\"SMOKING_2\",\"NUMFALLS_0\",\"NUMFALLS_1\",\"NUMFALLS_2\",\"NUMFALLS_3\"]]\n",
    "x_test1_nogrs = x_test1[[\"AGE\",\"HEIGHTX\",\"WEIGHTX\",\"DIABNW\",\"parental_hip_frac\",\"previous_frac\",\"DRNKSDAY_3_more\",\"CORT\",\"RHEUMAT\",\"Second_Osteo\",\n",
    "\"RACE_1\",\"RACE_2\",\"RACE_3\",\"RACE_4\",\"RACE_5\",\"SMOKING_2\",\"NUMFALLS_0\",\"NUMFALLS_1\",\"NUMFALLS_2\",\"NUMFALLS_3\"]]"
   ]
  },
  {
   "cell_type": "code",
   "execution_count": 5,
   "id": "8f8a54c0",
   "metadata": {},
   "outputs": [],
   "source": [
    "y_train1_array_h = y_train1[[\"mof\",\"mofDAY\"]].to_numpy()\n",
    "aux = [(e1,e2) for e1,e2 in y_train1_array_h]\n",
    "y_train1_array_rsf_h = numpy.array(aux, dtype=[('Status', '?'), ('Survival_in_days', '<f8')])\n",
    "\n",
    "y_test1_array_h = y_test1[[\"mof\",\"mofDAY\"]].to_numpy()\n",
    "aux = [(e1,e2) for e1,e2 in y_test1_array_h]\n",
    "y_test1_array_rsf_h = numpy.array(aux, dtype=[('Status', '?'), ('Survival_in_days', '<f8')])\n",
    "\n",
    "y_train1_array_d = y_train1[[\"Death_10y\",\"DeathDAY\"]].to_numpy()\n",
    "aux = [(e1,e2) for e1,e2 in y_train1_array_d]\n",
    "y_train1_array_rsf_d = numpy.array(aux, dtype=[('Status', '?'), ('Survival_in_days', '<f8')])\n",
    "\n",
    "y_test1_array_d = y_test1[[\"Death_10y\",\"DeathDAY\"]].to_numpy()\n",
    "aux = [(e1,e2) for e1,e2 in y_test1_array_d]\n",
    "y_test1_array_rsf_d = numpy.array(aux, dtype=[('Status', '?'), ('Survival_in_days', '<f8')])\n",
    "\n",
    "y_train1_array_cr = y_train1[[\"mof_cr\",\"mofDAY\"]].to_numpy()\n",
    "aux = [(e1,e2) for e1,e2 in y_train1_array_cr]\n",
    "y_train1_array_rsf_cr = numpy.array(aux, dtype=[('Status', '?'), ('Survival_in_days', '<f8')])\n",
    "\n",
    "y_test1_array_cr = y_test1[[\"mof_cr\",\"mofDAY\"]].to_numpy()\n",
    "aux = [(e1,e2) for e1,e2 in y_test1_array_cr]\n",
    "y_test1_array_rsf_cr = numpy.array(aux, dtype=[('Status', '?'), ('Survival_in_days', '<f8')])"
   ]
  },
  {
   "cell_type": "code",
   "execution_count": 6,
   "id": "560eeca2",
   "metadata": {},
   "outputs": [
    {
     "name": "stdout",
     "output_type": "stream",
     "text": [
      "Initial WSS: 87.66231646894332\n",
      "Check after 10 iterations: % displacement = 1.099607686223397, norm_theta = 1.1604523432943188\n",
      "Check after 20 iterations: % displacement = 0.0008970654763257878, norm_theta = 1.1442138308275869\n",
      "Check after 30 iterations: % displacement = 0.0, norm_theta = 1.1442138308275869\n",
      "\n",
      "*** RESULTS\n",
      "Estimated theta: [ 3.83201501e-01  1.07813808e+00 -4.15246323e-04]\n"
     ]
    }
   ],
   "source": [
    "# Model 4 (FRAX CRFs + GRS)\n",
    "estimator_h = ComponentwiseGradientBoostingSurvivalAnalysis(\n",
    "    n_estimators = 153,\n",
    "    learning_rate = 0.8503841871781403,\n",
    "    subsample = 0.20011950297137547,\n",
    "    random_state=0)\n",
    "\n",
    "gcv_h = estimator_h.fit(x_train1_grs, y_train1_array_rsf_h)\n",
    "gcv_d = ComponentwiseGradientBoostingSurvivalAnalysis().fit(x_train1_grs,y_train1_array_rsf_d)\n",
    "\n",
    "score_train = gcv_h.predict(x_train1_grs)+gcv_d.predict(x_train1_grs)\n",
    "score_train_h = pd.DataFrame(score_train, columns = [\"TrainScore\"])\n",
    "train_cal=pd.concat([y_train1[[\"mof\",\"WHOFRAC\"]],score_train_h],axis=\"columns\")\n",
    "X, y = train_cal[[\"WHOFRAC\"]].values, train_cal[[\"TrainScore\"]].values\n",
    "theta_actual = np.array([15., 0.1, 0.4]) \n",
    "sigma_actual = 0.6\n",
    "    \n",
    "def f(X, theta):\n",
    "    return theta[0] * np.tanh(theta[1] + theta[2] * X[:, 0])\n",
    "lr = LevenbergMarquardtReg(model_fn = f)    \n",
    "\n",
    "lr.fit(X, y, theta_init = np.ones(3)) \n",
    "    \n",
    "expected_values = lr.__get_optimization_status__(theta_actual)\n",
    "print(\"\\n*** RESULTS\")\n",
    "print(\"Estimated theta: {}\".format(lr.theta))"
   ]
  },
  {
   "cell_type": "code",
   "execution_count": 7,
   "id": "90937881",
   "metadata": {},
   "outputs": [],
   "source": [
    "score_test = gcv_h.predict(x_test1_grs)+gcv_d.predict(x_test1_grs)\n",
    "\n",
    "import math\n",
    "sigmoid = lambda x: 1 / (0.383201501 + math.exp(1.07813808*x))-0.000415246323\n",
    "sigmoid_v = np.vectorize(sigmoid) \n",
    "\n",
    "score_test_h = pd.DataFrame(sigmoid_v(score_test))\n",
    "score_test_h.columns = ['SXGB']\n",
    "score_test_h.to_csv('/users/PAS2433/dai417osc/WHI_sp23/data/SXGB_prob_mof.csv')"
   ]
  }
 ],
 "metadata": {
  "kernelspec": {
   "display_name": "Python 3.9 (Conda 2022.05) [python/3.9-2022.05]",
   "language": "python",
   "name": "python39_202205"
  },
  "language_info": {
   "codemirror_mode": {
    "name": "ipython",
    "version": 3
   },
   "file_extension": ".py",
   "mimetype": "text/x-python",
   "name": "python",
   "nbconvert_exporter": "python",
   "pygments_lexer": "ipython3",
   "version": "3.9.12"
  }
 },
 "nbformat": 4,
 "nbformat_minor": 5
}
