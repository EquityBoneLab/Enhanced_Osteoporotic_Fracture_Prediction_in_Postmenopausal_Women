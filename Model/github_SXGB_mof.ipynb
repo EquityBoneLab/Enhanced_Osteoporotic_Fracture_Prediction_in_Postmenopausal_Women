{
 "cells": [
  {
   "cell_type": "code",
   "execution_count": 1,
   "metadata": {},
   "outputs": [],
   "source": [
    "import numpy as np\n",
    "import numpy\n",
    "import pandas as pd\n",
    "from sksurv.metrics import concordance_index_censored, brier_score, cumulative_dynamic_auc\n",
    "from sksurv.linear_model import CoxPHSurvivalAnalysis\n",
    "from sksurv.column import encode_categorical\n",
    "from sksurv.metrics import concordance_index_censored\n",
    "from sksurv.ensemble import ComponentwiseGradientBoostingSurvivalAnalysis\n",
    "from sksurv.ensemble import GradientBoostingSurvivalAnalysis\n",
    "\n",
    "from scipy import stats\n",
    "from sklearn import metrics\n",
    "from sklearn.metrics import confusion_matrix, roc_auc_score, roc_curve,f1_score\n",
    "from sklearn.model_selection import KFold\n",
    "from sklearn.model_selection import train_test_split\n",
    "from sklearn.model_selection import cross_val_score\n",
    "\n",
    "from sklearn.model_selection import ShuffleSplit, GridSearchCV\n",
    "from skopt import BayesSearchCV"
   ]
  },
  {
   "cell_type": "code",
   "execution_count": 2,
   "metadata": {},
   "outputs": [],
   "source": [
    "x_train1 = pd.read_csv('/users/PAS2433/dai417osc/WHI_sp23/data/sp23_nobmd_Xtrain_0820.csv')\n",
    "y_train1 = pd.read_csv('/users/PAS2433/dai417osc/WHI_sp23/data/sp23_nobmd_Ytrain_competing_risk_0727.csv')\n",
    "x_test1 = pd.read_csv('/users/PAS2433/dai417osc/WHI_sp23/data/sp23_nobmd_Xtest_0820.csv')\n",
    "y_test1 = pd.read_csv('/users/PAS2433/dai417osc/WHI_sp23/data/sp23_nobmd_Ytest_competing_risk_0816_10y.csv')"
   ]
  },
  {
   "cell_type": "code",
   "execution_count": 3,
   "metadata": {},
   "outputs": [],
   "source": [
    "x_train1_grs = x_train1[[\"AGE\",\"HEIGHTX\",\"WEIGHTX\",\"DIABNW\",\"parental_hip_frac\",\"previous_frac\",\"DRNKSDAY_3_more\",\"CORT\",\"RHEUMAT\",\"Second_Osteo\",\"SCORE\",\n",
    "\"RACE_1\",\"RACE_2\",\"RACE_3\",\"RACE_4\",\"RACE_5\",\"SMOKING_2\",\"NUMFALLS_0\",\"NUMFALLS_1\",\"NUMFALLS_2\",\"NUMFALLS_3\"]]\n",
    "x_test1_grs = x_test1[[\"AGE\",\"HEIGHTX\",\"WEIGHTX\",\"DIABNW\",\"parental_hip_frac\",\"previous_frac\",\"DRNKSDAY_3_more\",\"CORT\",\"RHEUMAT\",\"Second_Osteo\",\"SCORE\",\n",
    "\"RACE_1\",\"RACE_2\",\"RACE_3\",\"RACE_4\",\"RACE_5\",\"SMOKING_2\",\"NUMFALLS_0\",\"NUMFALLS_1\",\"NUMFALLS_2\",\"NUMFALLS_3\"]]"
   ]
  },
  {
   "cell_type": "code",
   "execution_count": 4,
   "metadata": {},
   "outputs": [],
   "source": [
    "x_train1_nogrs = x_train1[[\"AGE\",\"HEIGHTX\",\"WEIGHTX\",\"DIABNW\",\"parental_hip_frac\",\"previous_frac\",\"DRNKSDAY_3_more\",\"CORT\",\"RHEUMAT\",\"Second_Osteo\",\n",
    "\"RACE_1\",\"RACE_2\",\"RACE_3\",\"RACE_4\",\"RACE_5\",\"SMOKING_2\",\"NUMFALLS_0\",\"NUMFALLS_1\",\"NUMFALLS_2\",\"NUMFALLS_3\"]]\n",
    "x_test1_nogrs = x_test1[[\"AGE\",\"HEIGHTX\",\"WEIGHTX\",\"DIABNW\",\"parental_hip_frac\",\"previous_frac\",\"DRNKSDAY_3_more\",\"CORT\",\"RHEUMAT\",\"Second_Osteo\",\n",
    "\"RACE_1\",\"RACE_2\",\"RACE_3\",\"RACE_4\",\"RACE_5\",\"SMOKING_2\",\"NUMFALLS_0\",\"NUMFALLS_1\",\"NUMFALLS_2\",\"NUMFALLS_3\"]]"
   ]
  },
  {
   "cell_type": "code",
   "execution_count": 5,
   "metadata": {},
   "outputs": [],
   "source": [
    "y_train1_array_h = y_train1[[\"mof\",\"mofDAY\"]].to_numpy()\n",
    "aux = [(e1,e2) for e1,e2 in y_train1_array_h]\n",
    "y_train1_array_rsf_h = numpy.array(aux, dtype=[('Status', '?'), ('Survival_in_days', '<f8')])\n",
    "\n",
    "y_test1_array_h = y_test1[[\"mof\",\"mofDAY\"]].to_numpy()\n",
    "aux = [(e1,e2) for e1,e2 in y_test1_array_h]\n",
    "y_test1_array_rsf_h = numpy.array(aux, dtype=[('Status', '?'), ('Survival_in_days', '<f8')])\n",
    "\n",
    "y_train1_array_d = y_train1[[\"Death_10y\",\"DeathDAY\"]].to_numpy()\n",
    "aux = [(e1,e2) for e1,e2 in y_train1_array_d]\n",
    "y_train1_array_rsf_d = numpy.array(aux, dtype=[('Status', '?'), ('Survival_in_days', '<f8')])\n",
    "\n",
    "y_test1_array_d = y_test1[[\"Death_10y\",\"DeathDAY\"]].to_numpy()\n",
    "#List of tuples\n",
    "aux = [(e1,e2) for e1,e2 in y_test1_array_d]\n",
    "y_test1_array_rsf_d = numpy.array(aux, dtype=[('Status', '?'), ('Survival_in_days', '<f8')])\n",
    "\n",
    "y_train1_array_cr = y_train1[[\"mof_cr\",\"mofDAY\"]].to_numpy()\n",
    "aux = [(e1,e2) for e1,e2 in y_train1_array_cr]\n",
    "y_train1_array_rsf_cr = numpy.array(aux, dtype=[('Status', '?'), ('Survival_in_days', '<f8')])\n",
    "\n",
    "y_test1_array_cr = y_test1[[\"mof_cr\",\"mofDAY\"]].to_numpy()\n",
    "aux = [(e1,e2) for e1,e2 in y_test1_array_cr]\n",
    "y_test1_array_rsf_cr = numpy.array(aux, dtype=[('Status', '?'), ('Survival_in_days', '<f8')])"
   ]
  },
  {
   "cell_type": "code",
   "execution_count": 6,
   "metadata": {
    "scrolled": true
   },
   "outputs": [
    {
     "name": "stdout",
     "output_type": "stream",
     "text": [
      "Model 4: \n",
      "C-index:  0.7957865608323563\n",
      "Brier score:  [0.93640552]\n",
      "Dynamic mean auc:  0.7992079420655325\n"
     ]
    }
   ],
   "source": [
    "# Model 4 (Bayesian optimization + FRAX CRFs + GRS)\n",
    "estimator_h = ComponentwiseGradientBoostingSurvivalAnalysis(\n",
    "    n_estimators = 152,\n",
    "    learning_rate = 0.8503841871781402,\n",
    "    subsample = 0.20019232109029358,\n",
    "    random_state=0)\n",
    "\n",
    "gcv_h = estimator_h.fit(x_train1_grs, y_train1_array_rsf_h)\n",
    "gcv_d = ComponentwiseGradientBoostingSurvivalAnalysis().fit(x_train1_grs,y_train1_array_rsf_d)\n",
    "\n",
    "cindex_h = concordance_index_censored(\n",
    "    y_test1_array_rsf_cr[\"Status\"],\n",
    "    y_test1_array_rsf_cr[\"Survival_in_days\"],\n",
    "    gcv_h.predict(x_test1_grs)+gcv_d.predict(x_test1_grs)\n",
    ")\n",
    "brier_h = brier_score(\n",
    "    y_train1_array_rsf_cr,\n",
    "    y_test1_array_rsf_cr,\n",
    "    estimate = gcv_h.predict(x_test1_grs)+gcv_d.predict(x_test1_grs),  \n",
    "    times=3649\n",
    ")\n",
    "auc, mean_auc = cumulative_dynamic_auc(y_train1_array_rsf_cr,\n",
    "    y_test1_array_rsf_cr,\n",
    "    estimate = gcv_h.predict(x_test1_grs)+gcv_d.predict(x_test1_grs),\n",
    "    times=3649)\n",
    "\n",
    "print(\"Model 4: \")\n",
    "print(\"C-index: \", cindex_h[0])\n",
    "print(\"Brier score: \", brier_h[1])\n",
    "print(\"Dynamic mean auc: \", mean_auc)"
   ]
  },
  {
   "cell_type": "code",
   "execution_count": 7,
   "metadata": {},
   "outputs": [
    {
     "name": "stdout",
     "output_type": "stream",
     "text": [
      "Model 3: \n",
      "C-index:  0.78070294175129\n",
      "Brier score:  [0.92501]\n",
      "Dynamic mean auc:  0.7841135586203506\n"
     ]
    }
   ],
   "source": [
    "# Model 3 (grid search + FRAX CRFs + GRS)\n",
    "estimator_h = ComponentwiseGradientBoostingSurvivalAnalysis(\n",
    "    n_estimators = 250,\n",
    "    learning_rate = 1,\n",
    "    subsample = 0.2,\n",
    "    random_state=0)\n",
    "\n",
    "gcv_h = estimator_h.fit(x_train1_grs, y_train1_array_rsf_h)\n",
    "gcv_d = ComponentwiseGradientBoostingSurvivalAnalysis().fit(x_train1_grs,y_train1_array_rsf_d)\n",
    "\n",
    "cindex_h = concordance_index_censored(\n",
    "    y_test1_array_rsf_cr[\"Status\"],\n",
    "    y_test1_array_rsf_cr[\"Survival_in_days\"],\n",
    "    gcv_h.predict(x_test1_grs)+gcv_d.predict(x_test1_grs)\n",
    ")\n",
    "brier_h = brier_score(\n",
    "    y_train1_array_rsf_cr,\n",
    "    y_test1_array_rsf_cr,\n",
    "    estimate = gcv_h.predict(x_test1_grs)+gcv_d.predict(x_test1_grs),  \n",
    "    times=3649\n",
    ")\n",
    "auc, mean_auc = cumulative_dynamic_auc(y_train1_array_rsf_cr,\n",
    "    y_test1_array_rsf_cr,\n",
    "    estimate = gcv_h.predict(x_test1_grs)+gcv_d.predict(x_test1_grs),\n",
    "    times=3649)\n",
    "print(\"Model 3: \")\n",
    "print(\"C-index: \", cindex_h[0])\n",
    "print(\"Brier score: \", brier_h[1])\n",
    "print(\"Dynamic mean auc: \", mean_auc)"
   ]
  },
  {
   "cell_type": "code",
   "execution_count": 8,
   "metadata": {},
   "outputs": [
    {
     "name": "stdout",
     "output_type": "stream",
     "text": [
      "Model 2: \n",
      "C-index:  0.76900137570377\n",
      "Brier score:  [0.93980281]\n",
      "Dynamic mean auc:  0.7746722120161946\n"
     ]
    }
   ],
   "source": [
    "# Model 2 (Bayesian optimization + FRAX CRFs + GRS)\n",
    "estimator_h = ComponentwiseGradientBoostingSurvivalAnalysis(\n",
    "    n_estimators = 171,\n",
    "    learning_rate = 0.15594561383166003,\n",
    "    subsample = 0.4899995215939888,\n",
    "    random_state=0)\n",
    "\n",
    "gcv_h = estimator_h.fit(x_train1_nogrs, y_train1_array_rsf_h)\n",
    "gcv_d = ComponentwiseGradientBoostingSurvivalAnalysis().fit(x_train1_nogrs,y_train1_array_rsf_d)\n",
    "\n",
    "cindex_h = concordance_index_censored(\n",
    "    y_test1_array_rsf_cr[\"Status\"],\n",
    "    y_test1_array_rsf_cr[\"Survival_in_days\"],\n",
    "    gcv_h.predict(x_test1_nogrs)+gcv_d.predict(x_test1_nogrs),\n",
    ")\n",
    "brier_h = brier_score(\n",
    "    y_train1_array_rsf_cr,\n",
    "    y_test1_array_rsf_cr,\n",
    "    estimate = gcv_h.predict(x_test1_nogrs)+gcv_d.predict(x_test1_nogrs),  \n",
    "    times=3649)\n",
    "auc, mean_auc = cumulative_dynamic_auc(y_train1_array_rsf_cr,\n",
    "    y_test1_array_rsf_cr,\n",
    "    estimate = gcv_h.predict(x_test1_nogrs)+gcv_d.predict(x_test1_nogrs),\n",
    "    times=3649)\n",
    "print(\"Model 2: \")\n",
    "print(\"C-index: \", cindex_h[0])\n",
    "print(\"Brier score: \", brier_h[1])\n",
    "print(\"Dynamic mean auc: \", mean_auc)"
   ]
  },
  {
   "cell_type": "code",
   "execution_count": 9,
   "metadata": {},
   "outputs": [
    {
     "name": "stdout",
     "output_type": "stream",
     "text": [
      "Model 1: \n",
      "C-index:  0.7701920618144301\n",
      "Brier score:  [0.93917]\n",
      "Dynamic mean auc:  0.7745901500091\n"
     ]
    }
   ],
   "source": [
    "# Model 1 (grid search + FRAX CRFs + GRS)\n",
    "estimator_h = ComponentwiseGradientBoostingSurvivalAnalysis(\n",
    "    n_estimators = 250,\n",
    "    learning_rate = 1,\n",
    "    subsample = 0.5,\n",
    "    random_state=0)\n",
    "\n",
    "gcv_h = estimator_h.fit(x_train1_nogrs, y_train1_array_rsf_h)\n",
    "gcv_d = ComponentwiseGradientBoostingSurvivalAnalysis().fit(x_train1_nogrs,y_train1_array_rsf_d)\n",
    "\n",
    "cindex_h = concordance_index_censored(\n",
    "    y_test1_array_rsf_cr[\"Status\"],\n",
    "    y_test1_array_rsf_cr[\"Survival_in_days\"],\n",
    "    gcv_h.predict(x_test1_nogrs)+gcv_d.predict(x_test1_nogrs),\n",
    ")\n",
    "brier_h = brier_score(\n",
    "    y_train1_array_rsf_cr,\n",
    "    y_test1_array_rsf_cr,\n",
    "    estimate = gcv_h.predict(x_test1_nogrs)+gcv_d.predict(x_test1_nogrs),  \n",
    "    times=3649)\n",
    "auc, mean_auc = cumulative_dynamic_auc(y_train1_array_rsf_cr,\n",
    "    y_test1_array_rsf_cr,\n",
    "    estimate = gcv_h.predict(x_test1_nogrs)+gcv_d.predict(x_test1_nogrs),\n",
    "    times=3649)\n",
    "print(\"Model 1: \")\n",
    "print(\"C-index: \", cindex_h[0])\n",
    "print(\"Brier score: \", brier_h[1])\n",
    "print(\"Dynamic mean auc: \", mean_auc)"
   ]
  },
  {
   "cell_type": "code",
   "execution_count": null,
   "metadata": {},
   "outputs": [],
   "source": []
  }
 ],
 "metadata": {
  "kernelspec": {
   "display_name": "Python 3",
   "language": "python",
   "name": "python3"
  },
  "language_info": {
   "codemirror_mode": {
    "name": "ipython",
    "version": 3
   },
   "file_extension": ".py",
   "mimetype": "text/x-python",
   "name": "python",
   "nbconvert_exporter": "python",
   "pygments_lexer": "ipython3",
   "version": "3.6.12"
  }
 },
 "nbformat": 4,
 "nbformat_minor": 5
}
