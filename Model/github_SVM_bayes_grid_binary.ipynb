{
 "cells": [
  {
   "cell_type": "code",
   "execution_count": 1,
   "metadata": {},
   "outputs": [],
   "source": [
    "from imblearn.over_sampling import SMOTE\n",
    "from scipy import stats\n",
    "from sklearn import metrics\n",
    "from sklearn.metrics import confusion_matrix, roc_auc_score, roc_curve,f1_score\n",
    "from sklearn.model_selection import KFold\n",
    "from sklearn.model_selection import train_test_split\n",
    "from sklearn.model_selection import cross_val_score\n",
    "import numpy\n",
    "import pandas as pd\n",
    "import pickle\n",
    "import time\n",
    "from bayes_opt import BayesianOptimization\n",
    "from sklearn.model_selection import GridSearchCV\n",
    "from sklearn.svm import SVC\n",
    "import warnings\n",
    "warnings.filterwarnings(\"ignore\")"
   ]
  },
  {
   "cell_type": "markdown",
   "metadata": {},
   "source": [
    "#### mof"
   ]
  },
  {
   "cell_type": "code",
   "execution_count": 2,
   "metadata": {},
   "outputs": [],
   "source": [
    "# dataset with FRAX CRFs and GRS\n",
    "with open('ready_whi_sp23', 'rb') as file_handler:\n",
    "    data = pickle.load(file_handler)\n",
    "    X1, Y1 = data.get('X', []).values, data.get('Y', []).values\n",
    "x_train1, x_test1, y_train1, y_test1 = train_test_split(X1, Y1, test_size=0.2,random_state=98)\n",
    "sm = SMOTE(random_state=2)\n",
    "x_train_s1, y_train_s1 = sm.fit_resample(x_train1, y_train1)"
   ]
  },
  {
   "cell_type": "code",
   "execution_count": 3,
   "metadata": {},
   "outputs": [],
   "source": [
    "# dataset with FRAX CRFs (no grs)\n",
    "with open('ready_whi_sp23', 'rb') as file_handler:\n",
    "    data = pickle.load(file_handler)\n",
    "    X2, Y2 = data.get('X_nogrs', []).values, data.get('Y', []).values\n",
    "x_train2, x_test2, y_train2, y_test2 = train_test_split(X2, Y2, test_size=0.2,random_state=98)\n",
    "sm = SMOTE(random_state=2)\n",
    "x_train_s2, y_train_s2 = sm.fit_resample(x_train2, y_train2)"
   ]
  },
  {
   "cell_type": "code",
   "execution_count": 4,
   "metadata": {},
   "outputs": [
    {
     "name": "stdout",
     "output_type": "stream",
     "text": [
      "--- Optimizing SVM with GRS---\n",
      "\u001b[91mData point [8.01144642 8.51685839] is not unique. 1 duplicates registered. Continuing ...\u001b[0m\n",
      "\u001b[91mData point [8.01144642 8.51685839] is not unique. 2 duplicates registered. Continuing ...\u001b[0m\n",
      "Final result: {'target': 0.9294468144853625, 'params': {'C': 8.011446423096377, 'gamma': 8.516858389169544}}\n"
     ]
    }
   ],
   "source": [
    "# Bayesian optimization for Model 4 (FRAX CRFs + GRS)\n",
    "def svc_cv(C, gamma, data, targets):\n",
    "    estimator = SVC(C=C, gamma=gamma, random_state=2)\n",
    "    cval = cross_val_score(estimator, data, targets, scoring='roc_auc', \n",
    "                           cv=10)\n",
    "    return cval.mean()\n",
    "\n",
    "def optimize_svc(data, targets):\n",
    "    def svc_crossval(C, gamma):\n",
    "        C = C\n",
    "        gamma = gamma\n",
    "        return svc_cv(C=C, gamma=gamma, data=data, targets=targets)\n",
    "    optimizer = BayesianOptimization( f=svc_crossval,\n",
    "            pbounds={\"C\": (0.01,100), \n",
    "                     \"gamma\": (0.01,100)\n",
    "                    },\n",
    "            verbose=0,\n",
    "            allow_duplicate_points=True\n",
    "            )\n",
    "    optimizer.maximize(n_iter=4)\n",
    "\n",
    "    print(\"Final result:\", optimizer.max)\n",
    "    \n",
    "if __name__ == \"__main__\":\n",
    "    print(\"--- Optimizing SVM with GRS---\")\n",
    "    optimize_svc(data=x_train_s1, targets=y_train_s1)"
   ]
  },
  {
   "cell_type": "code",
   "execution_count": 5,
   "metadata": {},
   "outputs": [
    {
     "name": "stdout",
     "output_type": "stream",
     "text": [
      "--- Optimizing SVM with no GRS---\n",
      "\u001b[91mData point [11.71429574 20.90040947] is not unique. 1 duplicates registered. Continuing ...\u001b[0m\n",
      "\u001b[91mData point [11.71429574 20.90040947] is not unique. 2 duplicates registered. Continuing ...\u001b[0m\n",
      "\u001b[91mData point [11.71429574 20.90040947] is not unique. 3 duplicates registered. Continuing ...\u001b[0m\n",
      "\u001b[91mData point [11.71429574 20.90040947] is not unique. 4 duplicates registered. Continuing ...\u001b[0m\n",
      "\u001b[91mData point [11.71429574 20.90040947] is not unique. 5 duplicates registered. Continuing ...\u001b[0m\n",
      "\u001b[91mData point [11.71429574 20.90040947] is not unique. 6 duplicates registered. Continuing ...\u001b[0m\n",
      "\u001b[91mData point [11.71429574 20.90040947] is not unique. 7 duplicates registered. Continuing ...\u001b[0m\n",
      "\u001b[91mData point [11.71429574 20.90040947] is not unique. 8 duplicates registered. Continuing ...\u001b[0m\n",
      "Final result: {'target': 0.9105075211260415, 'params': {'C': 11.714295736628298, 'gamma': 20.900409473930125}}\n"
     ]
    }
   ],
   "source": [
    "# Bayesian optimization for Model 2 (FRAX CRFs)\n",
    "def svc_cv(C, gamma, data, targets):\n",
    "    estimator = SVC(C=C, gamma=gamma, random_state=2)\n",
    "    cval = cross_val_score(estimator, data, targets, scoring='roc_auc', \n",
    "                           cv=10)\n",
    "    return cval.mean()\n",
    "\n",
    "def optimize_svc(data, targets):\n",
    "    def svc_crossval(C, gamma):\n",
    "        C = C\n",
    "        gamma = gamma\n",
    "        return svc_cv(C=C, gamma=gamma, data=data, targets=targets)\n",
    "    optimizer = BayesianOptimization( f=svc_crossval,\n",
    "            pbounds={\"C\": (0.01,100), \n",
    "                     \"gamma\": (0.01,100)\n",
    "                    },\n",
    "            verbose=0,\n",
    "            allow_duplicate_points=True\n",
    "            )\n",
    "    optimizer.maximize(n_iter=4)\n",
    "\n",
    "    print(\"Final result:\", optimizer.max)\n",
    "    \n",
    "if __name__ == \"__main__\":\n",
    "    print(\"--- Optimizing SVM with no GRS---\")\n",
    "    optimize_svc(data=x_train_s2, targets=y_train_s2)"
   ]
  },
  {
   "cell_type": "code",
   "execution_count": 14,
   "metadata": {},
   "outputs": [
    {
     "name": "stdout",
     "output_type": "stream",
     "text": [
      "{'C': 10, 'gamma': 10}\n"
     ]
    }
   ],
   "source": [
    "# grid search for Model 3 (FRAX CRFs + GRS)\n",
    "parameters = {\n",
    "        'C': [0.01,10,100],\n",
    "        'gamma': [0.01,10,100]\n",
    "     }\n",
    "svc = SVC(random_state=2)\n",
    "\n",
    "model = GridSearchCV(estimator=svc, \n",
    "                    param_grid=parameters,cv=10).fit(x_train_s1, y_train_s1)\n",
    "print(model.best_params_)"
   ]
  },
  {
   "cell_type": "code",
   "execution_count": 15,
   "metadata": {},
   "outputs": [
    {
     "name": "stdout",
     "output_type": "stream",
     "text": [
      "{'C': 10, 'gamma': 10}\n"
     ]
    }
   ],
   "source": [
    "# grid search for Model 1 (FRAX CRFs)\n",
    "parameters = {\n",
    "        'C': [0.01,10,100],\n",
    "        'gamma': [0.01,10,100]\n",
    "     }\n",
    "svc = SVC(random_state=2)\n",
    "\n",
    "model = GridSearchCV(estimator=svc, \n",
    "                    param_grid=parameters,cv=10).fit(x_train_s2, y_train_s2)\n",
    "print(model.best_params_)"
   ]
  },
  {
   "cell_type": "markdown",
   "metadata": {},
   "source": [
    "#### hip"
   ]
  },
  {
   "cell_type": "code",
   "execution_count": 16,
   "metadata": {},
   "outputs": [],
   "source": [
    "# dataset with FRAX CRFs and GRS\n",
    "with open('ready_whi_sp23_hip_py38', 'rb') as file_handler:\n",
    "    data = pickle.load(file_handler)\n",
    "    X1, Y1 = data.get('X', []).values, data.get('Y', []).values\n",
    "x_train1, x_test1, y_train1, y_test1 = train_test_split(X1, Y1, test_size=0.2,random_state=98)\n",
    "sm = SMOTE(random_state=2)\n",
    "x_train_s1, y_train_s1 = sm.fit_resample(x_train1, y_train1)"
   ]
  },
  {
   "cell_type": "code",
   "execution_count": 17,
   "metadata": {},
   "outputs": [],
   "source": [
    "# dataset with FRAX CRF (no grs)\n",
    "with open('ready_whi_sp23_hip_py38', 'rb') as file_handler:\n",
    "    data = pickle.load(file_handler)\n",
    "    X2, Y2 = data.get('X_nogrs', []).values, data.get('Y', []).values\n",
    "x_train2, x_test2, y_train2, y_test2 = train_test_split(X2, Y2, test_size=0.2,random_state=98)\n",
    "sm = SMOTE(random_state=2)\n",
    "x_train_s2, y_train_s2 = sm.fit_resample(x_train2, y_train2)"
   ]
  },
  {
   "cell_type": "code",
   "execution_count": 18,
   "metadata": {},
   "outputs": [
    {
     "name": "stdout",
     "output_type": "stream",
     "text": [
      "--- Optimizing SVM with GRS---\n",
      "Final result: {'target': 0.9623814314467856, 'params': {'C': 1.2351702914303146, 'gamma': 1.032948099274697}}\n"
     ]
    }
   ],
   "source": [
    "# Bayesisn optimization for Model 4 (FRAX CRFs + GRS)\n",
    "def svc_cv(C, gamma, data, targets):\n",
    "    estimator = SVC(C=C, gamma=gamma, random_state=2)\n",
    "    cval = cross_val_score(estimator, data, targets, scoring='roc_auc', \n",
    "                           cv=10) \n",
    "    return cval.mean()\n",
    "\n",
    "def optimize_svc(data, targets):\n",
    "    def svc_crossval(C, gamma):\n",
    "        C = C\n",
    "        gamma = gamma\n",
    "        return svc_cv(C=C, gamma=gamma, data=data, targets=targets)\n",
    "    optimizer = BayesianOptimization( f=svc_crossval,\n",
    "            pbounds={\"C\": (0.01,100), \n",
    "                     \"gamma\": (0.01,100)\n",
    "                    },\n",
    "            verbose=0,\n",
    "            allow_duplicate_points=True\n",
    "            )\n",
    "    optimizer.maximize(n_iter=4)\n",
    "\n",
    "    print(\"Final result:\", optimizer.max)\n",
    "    \n",
    "if __name__ == \"__main__\":\n",
    "    print(\"--- Optimizing SVM with GRS---\")\n",
    "    optimize_svc(data=x_train_s1, targets=y_train_s1)"
   ]
  },
  {
   "cell_type": "code",
   "execution_count": 19,
   "metadata": {},
   "outputs": [
    {
     "name": "stdout",
     "output_type": "stream",
     "text": [
      "--- Optimizing SVM with no GRS---\n",
      "\u001b[91mData point [1.09533018 1.07172558] is not unique. 1 duplicates registered. Continuing ...\u001b[0m\n",
      "\u001b[91mData point [1.09533018 1.07172558] is not unique. 2 duplicates registered. Continuing ...\u001b[0m\n",
      "\u001b[91mData point [1.09533018 1.07172558] is not unique. 3 duplicates registered. Continuing ...\u001b[0m\n",
      "\u001b[91mData point [1.09533018 1.07172558] is not unique. 4 duplicates registered. Continuing ...\u001b[0m\n",
      "Final result: {'target': 0.9630563501453739, 'params': {'C': 1.0953301847329402, 'gamma': 1.0717255846156497}}\n"
     ]
    }
   ],
   "source": [
    "# Bayesisn optimization for Model 2 (FRAX CRFs)\n",
    "def svc_cv(C, gamma, data, targets):\n",
    "    estimator = SVC(C=C, gamma=gamma, random_state=2)\n",
    "    cval = cross_val_score(estimator, data, targets, scoring='roc_auc', \n",
    "                           cv=10)\n",
    "    return cval.mean()\n",
    "\n",
    "def optimize_svc(data, targets):\n",
    "    def svc_crossval(C, gamma):\n",
    "        C = C\n",
    "        gamma = gamma\n",
    "        return svc_cv(C=C, gamma=gamma, data=data, targets=targets)\n",
    "    optimizer = BayesianOptimization( f=svc_crossval,\n",
    "            pbounds={\"C\": (0.01,100), \n",
    "                     \"gamma\": (0.01,100)\n",
    "                    },\n",
    "            verbose=0,\n",
    "            allow_duplicate_points=True\n",
    "            )\n",
    "    optimizer.maximize(n_iter=4)\n",
    "\n",
    "    print(\"Final result:\", optimizer.max)\n",
    "    \n",
    "if __name__ == \"__main__\":\n",
    "    print(\"--- Optimizing SVM with no GRS---\")\n",
    "    optimize_svc(data=x_train_s2, targets=y_train_s2)"
   ]
  },
  {
   "cell_type": "code",
   "execution_count": 20,
   "metadata": {},
   "outputs": [
    {
     "name": "stdout",
     "output_type": "stream",
     "text": [
      "{'C': 5, 'gamma': 5}\n"
     ]
    }
   ],
   "source": [
    "# grid search for Model 3 (FRAX CRFs + GRS)\n",
    "parameters = {\n",
    "        'C': [0.01,5,100],\n",
    "        'gamma': [0.01,5,100]\n",
    "     }\n",
    "svc = SVC(random_state=2)\n",
    "\n",
    "model = GridSearchCV(estimator=svc, \n",
    "                    param_grid=parameters,cv=10).fit(x_train_s1, y_train_s1) \n",
    "print(model.best_params_)"
   ]
  },
  {
   "cell_type": "code",
   "execution_count": 21,
   "metadata": {},
   "outputs": [
    {
     "name": "stdout",
     "output_type": "stream",
     "text": [
      "{'C': 5, 'gamma': 5}\n"
     ]
    }
   ],
   "source": [
    "# grid search for Model 1 (FRAX CRFs)\n",
    "parameters = {\n",
    "        'C': [0.01,5,100],\n",
    "        'gamma': [0.01,5,100]\n",
    "     }\n",
    "\n",
    "svc = SVC(random_state=2)\n",
    "\n",
    "model = GridSearchCV(estimator=svc, \n",
    "                    param_grid=parameters,cv=10).fit(x_train_s2, y_train_s2) \n",
    "print(model.best_params_)"
   ]
  },
  {
   "cell_type": "code",
   "execution_count": null,
   "metadata": {},
   "outputs": [],
   "source": []
  }
 ],
 "metadata": {
  "kernelspec": {
   "display_name": "Python 3 (ipykernel)",
   "language": "python",
   "name": "python3"
  },
  "language_info": {
   "codemirror_mode": {
    "name": "ipython",
    "version": 3
   },
   "file_extension": ".py",
   "mimetype": "text/x-python",
   "name": "python",
   "nbconvert_exporter": "python",
   "pygments_lexer": "ipython3",
   "version": "3.9.12"
  }
 },
 "nbformat": 4,
 "nbformat_minor": 4
}
